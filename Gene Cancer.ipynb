{
 "cells": [
  {
   "cell_type": "code",
   "execution_count": 1,
   "metadata": {},
   "outputs": [],
   "source": [
    "import pandas as pd"
   ]
  },
  {
   "cell_type": "code",
   "execution_count": 2,
   "metadata": {},
   "outputs": [],
   "source": [
    "df=pd.read_csv(\"training\")"
   ]
  },
  {
   "cell_type": "code",
   "execution_count": 3,
   "metadata": {},
   "outputs": [],
   "source": [
    "df1=pd.read_csv(\"text\",sep=\"\\|\\|\",engine=\"python\",names=[\"ID\",\"TEXT\"],skiprows=1)"
   ]
  },
  {
   "cell_type": "code",
   "execution_count": 4,
   "metadata": {},
   "outputs": [
    {
     "data": {
      "text/plain": [
       "3321"
      ]
     },
     "execution_count": 4,
     "metadata": {},
     "output_type": "execute_result"
    }
   ],
   "source": [
    "len(df1)"
   ]
  },
  {
   "cell_type": "code",
   "execution_count": 5,
   "metadata": {},
   "outputs": [],
   "source": [
    "data=pd.merge(df,df1,on='ID',how='inner')"
   ]
  },
  {
   "cell_type": "code",
   "execution_count": 6,
   "metadata": {},
   "outputs": [
    {
     "data": {
      "text/plain": [
       "3321"
      ]
     },
     "execution_count": 6,
     "metadata": {},
     "output_type": "execute_result"
    }
   ],
   "source": [
    "len(data)"
   ]
  },
  {
   "cell_type": "code",
   "execution_count": 7,
   "metadata": {},
   "outputs": [],
   "source": [
    "import numpy as np\n",
    "import matplotlib.pyplot as plt\n",
    "import seaborn as sns\n",
    "import nltk\n",
    "from nltk.corpus import stopwords\n",
    "from nltk.tokenize import word_tokenize,sent_tokenize\n",
    "from nltk.stem import PorterStemmer\n",
    "import joblib\n",
    "from tqdm import tqdm"
   ]
  },
  {
   "cell_type": "code",
   "execution_count": 8,
   "metadata": {},
   "outputs": [
    {
     "data": {
      "text/plain": [
       "array(['ID', 'Gene', 'Variation', 'Class', 'TEXT'], dtype=object)"
      ]
     },
     "execution_count": 8,
     "metadata": {},
     "output_type": "execute_result"
    }
   ],
   "source": [
    "data.columns.values"
   ]
  },
  {
   "cell_type": "code",
   "execution_count": 9,
   "metadata": {},
   "outputs": [
    {
     "name": "stdout",
     "output_type": "stream",
     "text": [
      "False\n",
      "False\n",
      "False\n",
      "False\n",
      "True\n"
     ]
    }
   ],
   "source": [
    "print(data.ID.isnull().any())\n",
    "print(data.Gene.isnull().any())\n",
    "print(data.Variation.isnull().any())\n",
    "print(data.Class.isnull().any())\n",
    "print(data.TEXT.isnull().any())\n",
    "\n",
    "\n"
   ]
  },
  {
   "cell_type": "code",
   "execution_count": 10,
   "metadata": {},
   "outputs": [],
   "source": [
    "index=list()\n",
    "for i in range(len(data.TEXT)):\n",
    "    if(not(isinstance(data.TEXT.iloc[i],str))):\n",
    "        index.append(i)"
   ]
  },
  {
   "cell_type": "code",
   "execution_count": 11,
   "metadata": {},
   "outputs": [
    {
     "name": "stdout",
     "output_type": "stream",
     "text": [
      "[1109, 1277, 1407, 1639, 2755]\n"
     ]
    }
   ],
   "source": [
    "print(index)"
   ]
  },
  {
   "cell_type": "code",
   "execution_count": 12,
   "metadata": {},
   "outputs": [
    {
     "name": "stdout",
     "output_type": "stream",
     "text": [
      "nan\n",
      "nan\n",
      "nan\n",
      "nan\n",
      "nan\n"
     ]
    }
   ],
   "source": [
    "for i in index:\n",
    "    print(data.TEXT.iloc[i])"
   ]
  },
  {
   "cell_type": "code",
   "execution_count": 14,
   "metadata": {},
   "outputs": [
    {
     "data": {
      "text/plain": [
       "nan"
      ]
     },
     "execution_count": 14,
     "metadata": {},
     "output_type": "execute_result"
    }
   ],
   "source": [
    "data.TEXT.iloc[1109]"
   ]
  },
  {
   "cell_type": "code",
   "execution_count": 18,
   "metadata": {},
   "outputs": [
    {
     "name": "stderr",
     "output_type": "stream",
     "text": [
      "C:\\Users\\Shubham Kumar\\Anaconda3\\lib\\site-packages\\pandas\\core\\indexing.py:189: SettingWithCopyWarning: \n",
      "A value is trying to be set on a copy of a slice from a DataFrame\n",
      "\n",
      "See the caveats in the documentation: http://pandas.pydata.org/pandas-docs/stable/indexing.html#indexing-view-versus-copy\n",
      "  self._setitem_with_indexer(indexer, value)\n"
     ]
    }
   ],
   "source": [
    "for i in index:\n",
    "    data.TEXT.iloc[i]=data.Gene.iloc[i]+\" \"+data.Variation.iloc[i]"
   ]
  },
  {
   "cell_type": "code",
   "execution_count": 19,
   "metadata": {},
   "outputs": [
    {
     "data": {
      "text/plain": [
       "1109                   FANCA S1088F\n",
       "1277    ARID5B Truncating Mutations\n",
       "1407                    FGFR3 K508M\n",
       "1639             FLT1 Amplification\n",
       "2755                     BRAF G596C\n",
       "Name: TEXT, dtype: object"
      ]
     },
     "execution_count": 19,
     "metadata": {},
     "output_type": "execute_result"
    }
   ],
   "source": [
    "data.TEXT[index]"
   ]
  },
  {
   "cell_type": "code",
   "execution_count": 20,
   "metadata": {},
   "outputs": [],
   "source": [
    "text=data.TEXT"
   ]
  },
  {
   "cell_type": "code",
   "execution_count": 21,
   "metadata": {},
   "outputs": [],
   "source": [
    "for i in text:\n",
    "    if(not isinstance(i,str)):\n",
    "        print(i)"
   ]
  },
  {
   "cell_type": "code",
   "execution_count": 28,
   "metadata": {},
   "outputs": [
    {
     "name": "stderr",
     "output_type": "stream",
     "text": [
      "  0%|                                                                                         | 0/3321 [00:00<?, ?it/s]C:\\Users\\Shubham Kumar\\Anaconda3\\lib\\site-packages\\ipykernel_launcher.py:7: SettingWithCopyWarning: \n",
      "A value is trying to be set on a copy of a slice from a DataFrame\n",
      "\n",
      "See the caveats in the documentation: http://pandas.pydata.org/pandas-docs/stable/indexing.html#indexing-view-versus-copy\n",
      "  import sys\n",
      "C:\\Users\\Shubham Kumar\\Anaconda3\\lib\\site-packages\\ipykernel_launcher.py:8: SettingWithCopyWarning: \n",
      "A value is trying to be set on a copy of a slice from a DataFrame\n",
      "\n",
      "See the caveats in the documentation: http://pandas.pydata.org/pandas-docs/stable/indexing.html#indexing-view-versus-copy\n",
      "  \n",
      "100%|██████████████████████████████████████████████████████████████████████████████| 3321/3321 [11:56<00:00,  4.64it/s]\n"
     ]
    }
   ],
   "source": [
    "import re\n",
    "from nltk.corpus import stopwords\n",
    "stop_words=set(stopwords.words('english'))\n",
    "from tqdm import tqdm\n",
    "for i in tqdm(range(len(text))):\n",
    "    y=\"\"\n",
    "    text[i]=re.sub('[^a-zA-Z ]',\"\",text[i])\n",
    "    text[i]=text[i].lower()\n",
    "    word=list(text[i])\n",
    "    for j in word:\n",
    "        if(j not in stop_words):\n",
    "            y=y+j+\" \";\n",
    "    "
   ]
  },
  {
   "cell_type": "code",
   "execution_count": 29,
   "metadata": {},
   "outputs": [
    {
     "name": "stdout",
     "output_type": "stream",
     "text": [
      "signaling by transforming growth factor tgf superfamily ligands to the nucleus is mediated by type i and type ii receptors and the intracellular signal transducers the smads alteration of some of the components of these pathways has been observed in human tumors these alterations can be deletions or mutations or downregulation of components that act positively in the pathway or alternatively amplification or overexpression of inhibitors of the pathways the selection of these alterations during tumor progression and their correlation with clinical outcomes such as survival risk of recurrence after tumor resection or tendency for metastatic spread suggest that many are involved in tumor progression here we review the genetic alterations and epigenetic modifications that occur in different components of the tgf superfamily signaling pathways in human tumors and we discuss their correlation with clinical outcome the evidence suggests that not all alterations of the tgf superfamily signaling pathway components in human cancer have an equivalent effect on tumor progression and we discuss what implications this has for our understanding of the role of tgf signaling in human cancer  abbreviations batrii big adenine tract in receptor type ii emt epithelialmesenchymal transition fap familial adenomatous polyposis hcc hepatocellular carcinoma hcv hepatitis c virus hnpcc hereditary nonpolyposis colorectal cancer hnscc head and neck squamous cell carcinoma jp juvenile polyposis ln lymph node loh loss of heterozygosity msi without microsatellite instability msi with microsatellite instability mss microsatellite stable nsclc nonsmall cell lung carcinoma scc squamous cell carcinoma tgf transforming growth factor keywords cancer receptors smad tgf tumor suppressor tumor promoter  introduction members of the tgf superfamily ligands such as tgf activin and bmp transduce their signals through heterotetrameric complexes comprising two types of serinethreonine kinase receptor the type i and type ii upon ligand binding the type ii receptor phosphorylates and activates the type i receptor which initiates downstream signaling by phosphorylating the receptorregulated smads rsmads each ligand signals through a specific combination of type ii type i and rsmads reviewed in  tgf binds to the tgf type ii receptor trii and the tgf type i receptor tri also called alk for activin receptorlike kinase  although in endothelial cells it can also bind a complex comprising trii alk and alk  activin and bmps can both bind to the same type ii receptors actriiaacvr and actriibacvrb but in combination with distinct type i receptors which are alk for activin and alks   and  for bmps in addition bmps can signal through the bmp type ii receptor bmprii in conjuction with alks   and  the type i receptor dictates the specificity for the rsmad activation alks   and  phosphorylate the rsmads smad and smad whilst alks    and  phosphorylate the rsmads smad smad and smad once phosphorylated these rsmads transduce the signal to the nucleus in cooperation with the common mediator smad smad to transcriptionally activate or repress different targets genes  the tgf superfamily pathways are also negatively regulated the inhibitory smads smad and smad bind the active receptor complexes and also recruit e ubiquitin ligases smurf to the receptor complexes to degrade them      smad has also been shown to participate in a complex that dephosphorylates the active tgf receptors  in addition the transcriptional repressor ski and its close relative snon bind to active smad complexes and inhibit their transcriptional activity   the tgf superfamily signaling pathways are involved in many different biological processes during embryonic development and play a role in adult organisms in tissue homeostasis  they are also strongly implicated in cancer since alterations of some specific and some common components of these different pathways have been identified in human tumors fig  shows the particular pathways that are affected in human cancer  alerations of the different components of the tgf superfamilly pathway in  fig   alerations of the different components of the tgf superfamilly pathway in human cancer pathways for which components have been found to be altered in human cancers are represented inactivating alterations such as mutations deletions or downregulation are shown in green whilst activating alterations such as amplification or overexpression are shown in red components of these pathways that have not been shown to be affected in human tumors are shown in yellow for details see text for interpretation of the references to color in this figure legend the reader is referred to the web version of this article figure options cancer is a multistep process resulting in the evolution of a clonal cell population that has escaped from the control of regulatory circuits that normally govern cell proliferation and homeostasis this can happen through two distinct types of genetic alteration gainoffunction mutations in oncogenes that usually result in growth factorindependent cell proliferation or recessive lossoffunction mutations in tumor suppressors that allow evasion of growth inhibitory signals the wellcharacterized growth inhibitory response of tgf  combined with the fact that up to  of colon cancer cell lines and  of lung cancer cell lines have become resistant to this antiproliferative effect     led to the search for evidence of inactivation of components of the tgf pathway in human cancer inactivation of a tumor suppressor is characterized by alterations that inactivate both alleles which is achieved either by homozygous deletion or mutation or more commonly by mutation of one allele accompanied by the loss of a chromosomal region containing the other allele termed loss of heterozygosity loh thus identification of high frequency loh at a particular locus in different types of cancers in conjunction with the mapping of genes that have undergone mutation or homozygous deletion at the same locus in the same cancers has been a common way to identify new tumor suppressor genes in fact the gene encoding smad madhdpc hereafter smad was identified as a tumor suppressor gene in pancreatic cancer in this way  germline mutations in smad have also been identified in some individuals with the familial syndrome juvenile polyposis jp which leads to predisposition to hamartomatous polyps and gastrointestinal cancer  furthermore other jp patients who do not have germline mutations in smad have mutations in bmpra which encodes the bmp type i receptor alk indicating that this gene too is a tumor suppressor  there is also evidence that both the tgf type i and type ii receptors act as tumor suppressors since they are both inactivated by a variety of different mechanisms in human tumors  the alternative way of inactivating the tumor suppressor function of the tgf pathway is through overexpression or amplification of its inhibitors such as smad smurf or the transcriptional repressors skisnon and indeed these events have been identified in human tumors       in contrast to the tumor suppressive effects of the tgf signaling pathways is the striking finding that tgf is widely overexpressed in many human cancers and this alteration in tumors is associated with poor prognosis tumor vascularization and metastasis  this observation suggests that tgf can also act as a tumor promoter  in this review we first describe in detail how the tgf superfamily signaling pathways are altered in human cancer we then go on to assess where possible the clinical consequences of modulating the activity or expression levels of different components of the tgf signaling pathway in human tumors   alterations in components of the tgf signaling pathways  receptor alterations in human tumors   tgf type ii receptor tgfbrtrii  the tgf type ii receptor trii gene tgfbr has been mapped to chromosome p a chromosome for which loh is frequently observed in both small cell lung carcinoma sclc and nonsmall cell lung carcinoma nsclc and in gastric cancer     in these cancers though loh was not found to be associated with tgfbr mutations suggesting that tgfbr is not the tumor suppressor gene at this locus that is targeted in these cases  however there is other evidence that tgfbr is indeed a tumor suppressor which has come from its specific alteration in cancers associated with microsatellite instability msi msi arises from inactivation of the mutation mismatch repair system mmr  inactivation of the complex of proteins that repairs basepair mismatches during dna replication predominantly affects mono di and trinucleotide tracts and short sequence repeats by accumulating replication errors at these repeats thus genes that contain such microsatellitelike repeats in their coding regions are observed to be mutated in msiassociated cancer the tgfbr gene contains such repeats in exon  consisting of a base pair bp polyadenine repeat called big adenine tract in receptor type ii batrii  this repeat has been shown to be frequently mutated in msiassociated cancers batrii mutations are characterized by an insertiondeletion of one or two adenines that results in the introduction of a nonsense mutation leading to a truncated protein that lacks the transmembrane domain and the intracellular serinethreonine kinase domain  batrii mutations have been identified at very high frequency in hereditary nonpolyposis colorectal cancer hnpcc which is mainly characterized by inherited genetic instability  in sporadic cancers associated with the msi phenotype batrii mutations have been identified in a high percentage of colon cancers gastric cancers nsclc gliomas and biliary tract cancers table          in most cases the batrii mutations were present on both alleles in a few other cases point mutations in the serinethreonine kinase domain of trii were observed on the other allele  the fact that the tgfbr mutations are biallelic strongly suggests a tumor suppressor function for trii importantly although all polyadenine tracts are unstable in msi tumors the batrii tract is more unstable when compared to other polyadenine tracts of identical size in the same tumors which suggests that there is a selective advantage for tgfbr inactivation during msiassociated tumorigenesis however since some msiassociated cancers such as endometrial carcinomas and hepatocellular carcinomas hcc do not exhibit any batrii mutations     it is likely that the selection for batrii mutations is also dependent on another event  table  frequency of the alterations of the tgf superfamilly components in human cancer and their correlation with clinical outcome protein locus genetumor typenaalteration typefb correlation withrefc ligand   tgf q tgfbbreastoverexpressionmetastasis overexpressionmetastasis colonoverexpressionnddisease progression to metastasis high level in serumndtumor stage of duckes classification high level in serumndtumor stage depth of tumor invasion and metastasis esophageal sccoverexpressiondepth of invasion only gastricoverexpressiondepth of invasion tumor stage vegf expression and prognosis hcchigh level in serumndtumor vascularity high level in serumndnd lungoverexpressionbetter prognosis lung nsclcoverexpressionndtumor grade ln metastasis microvessel density pancreaticoverexpressionlack of tgf correlates with increased postoperative survival time prostateoverexpressionndtumor grade high vascular counts and metastasis  type ii receptors   trii p tgfbrbiliary tract  msipolya tract mutationnd  msipolya tract mutationnd bladderloss of expressiontumor grade breastintragenic mutationnd ndloss of expressionndtumor grade colon sporadic  msiintragenic mutationnd  msipolya tract mutationbetter year survival rate  msipolya tract mutationnd  msipolya tract mutationnd  ndintragenic mutationnd colon sporadic and hnpcc  msipolya tract mutationnd  msipolya tract mutationnd esophageal sccdownregulationnd loss of expressiondepth of invasion metastasis pathological stage poor prognosis gastric  msipolya tract mutationnd  msipolya tract mutationnd  msindndnd  msipolya tract mutationnd glioma  msipolya tract mutationnd  msipolya tract mutationnd hcc hcvpolya tract mutationnd hnsccintragenic mutationnd lung nsclc  msipolya tract mutationnd  ndpolya tract mutationpolya tract mutation associated with msi  ndintragenic mutationnd  nddownregulationpromoter methylation ovarianintragenic mutationnd decrease or loss of expressionclinical stage pancreatichomozygous deletion and polya tract mutationpolya tract mutations associated with msi prostateloss of expressiontumor grade loss of expressionndnot correlated with poor prognosis   acvr q acvrcolon  msipolya tract mutationnd  msipolya tract mutationnd  msipolya tract mutationnd  msipolya tract mutationnd gastric  msipolya tract mutationnd pancreatic  msiintragenic mutationnd  msipolya tract mutationnd  type i receptors   trialk p tgfbrbiliary tracthomozygous deletionnd bladderloss of expressiontumor grade and poor prognosis breast  carcinomaintragenic mutationln metastasis  ln metastasisintragenic mutationln metastasis gastric  msipromoter methylationnd  msipromoter methylationnd  nddownregulationnd  ndpromoter methylationhypermethylation of cpg island hnscc  metastasisintragenic mutationnd  esophagealloss of expressiondepth of invasion metastasis pathological stage poor prognosis ovarianintragenic mutationnd intragenic mutationnd pancreatichomozygous deletionnd prostateloss of expressiontumor grade loss of expressionndtumor grade and poor prognosis   alk qq bmpracolon jpgermline mutationnd germline mutationhigher frequency of gastrointestinal cancer germline mutationnd germline mutationnd   alk q acvrbpancreaticintragenic mutationnd  smads   smad q smadbiliary tractintragenic mutationnd bladderhomozygous deletionnd breasthomozygous deletionnd loss of expressioninversely correlates with the presence of ln metastases cervicalintragenic mutationnd colon  jpgermline mutationhigher frequency of gastrointestinal cancer germline mutationnd germline mutationprevalence of massive gastric polyposis germline mutationnd  fapintragenic mutationnd  hnpccintragenic mutationnd  sporadicintragenic mutationnd intragenic mutationnd intragenic mutationnd intragenic mutationadvanced stage and metastasis intragenic mutationliver metastases intragenic mutationnd intragenic mutationnd loss of expressionlate tumor stage  borderline correlation with distant metastases  msiintragenic mutationsmad mutations mutually exclusive of msi  msiintragenic mutationsmad mutations mutually exclusive of msi esophageal sccloss of smad stainingmetastatic spreading hccintragenic mutationnd lung nsclcintragenic mutationnd ovarianintragenic mutationnd pancreatichomozygous deletion and intragenic mutationnd small intestineintragenic mutationnd   smad q smadcervicalintragenic mutationnd colonhomozygous deletion and intragenic mutationnd intragenic mutationnd intragenic mutationno correlation with clinicopathological finding hccintragenic mutationnd lung nsclcintragenic mutationnd   smad q smadgastricdownregulationnd  antagonists   smad q smadcolondeletionnd amplificationnd deletionbetter prognosis amplificationpoor prognosis   smurf q smurfesophageal scchigh expression leveldepth of invasion ln metastasis and poor survival   ski p skicolonpartial or complete allelic lossno correlation with prognosis amplificationreduced relapsefree and overall survival melanomanuclear stainingndpreinvasive melanoma nuclear and cytoplasmic stainingndprimary invasive melanoma and metastasis   snon q snonbreaststrong nuclear stainingfavorable outcome strong cytoplasmic stainingworse prognosis colonpartial or complete allelic lossno correlation amplificationno correlation esophageal scchigh expression levelnddepth of invasion and pathological stage amplificationincreased snon expression nd not determined  a number of tumor samples  b frequency  c references  table options batrii mutations are specifically associated with msi and such mutations are very infrequent or nonexistent in tumors without msi also called mss for microsatellite stable with the exception of hcc associated with hepatitis c virus hcv  however nonbatrii mutations that have been shown to occur occasionally on the second allele of tgfbr in msi tumors are much more frequently observed in tumors without msi  table  indeed somatic point mutations in tgfbr have been identified in  of nonmsi colon cancers  which taken together with the batrii mutations means that  of colon cancers have tgfbr mutations in addition tgfbr mutations are found in  of ovarian cancers  of hnscc and  of breast cancers      but are very rare in pancreatic cancer most of the somatic point mutations in tgfbr are missense mutations that occur on both alleles in the highly conserved serinethreonine kinase domain or the transmembrane domain some have been proposed to induce a conformational change in the protein that could affect transphosphorylation of tri  others that have been found to be heterozygous in lymphoma dg or esophageal carcinomas eq have been proposed to act as dominantnegative mutations     the dg mutation inhibits the function of the wildtype receptor by preventing its appearance on the plasma membrane   beside mutations in the coding region of tgfbr loss of expression of trii is another highly frequent alteration observed in tumors  table  it is observed in  of nsclcs in  of bladder cancers in about  of head and neck squamous cell carcinomas hnscc of the esophageus in  of ovarian carcinomas  of prostate cancers and also in breast cancers          it is either characterized as a loss of trii protein or loss of mrna expression in tumor cells  suggesting that downregulation of trii expression in tumors is the main cause for this alteration in nsclc downregulation of trii is correlated with cpg methylation of the tgfbr promoter  which could account for loss of trii expression mutations in the tgfbr promoter could also cause loss of tgfbr expression and there is evidence for this an a  g mutation at position  of the  untranslated region of the tgfbr gene that results in a significantly decreased transcriptional activity of the tgfbr promoter  has been identified in a squamous carcinoma cell line with reduced levels of tgfbr mrna   activin type ii receptor acvr  the activin type ii receptor encoded by acvr that specifically recognizes activin and also bmps as its ligands is another type ii receptor for tgf superfamily members that seems to have a tumor suppressor function like the tgfbr gene the acvr gene contains polyadenine tracts in its coding region which are a target for msi mutations in one of the two bp polyadenine tracts of acvr have been identified in gastrointestinal tumors associated with msi with a frequency of  in colon cancer      in gastric carcinomas  and also in  pancreatic tumors investigated  these mutations are similar to those observed in the bp polyadenine tracts of tgfbr and mainly consist of the addition or deletion of one adenine in the tract that generates a frameshift mutation leading to a truncated protein lacking the serinethreonine kinase domain in most of the cases these mutations are biallelic supporting the idea that acvr could have tumor suppressor properties  moreover it has been proposed that polyadenine tracts of less than  bp are rarely mutated in msi tumors thus the prevalence of this mutation in tumors suggests a positive selection of acvr inactivation during tumor progression   tgf type i receptor trialk  no mutations of the tgf type i receptor tri have been associated with msi in gastrointestinal cancer presumably because unlike tgfbr it lacks a repetitive nucleotide sequence that could be a target for genomic instability however alteration of this gene due to somatic mutation has been reported in tumors although at very low frequency  table  homozygous deletion of tri has been identified in  pancreatic and  biliary adenocarcinomas  and mutations in the tri coding sequence have been found in about  of ovarian carcinomas  of hnscc tumors and in an average of  of breast carcinomas and metastases       some mutations such as those found in ovarian tumors and in hnscc     are frameshift mutations in exon  or  of tri which are presumed to generate truncated proteins that lack both the catalytic and transmembrane domains in the first case or just the catalytic domain in the second case missense mutations which are clustered in the catalytic domain of the receptor have also been identified  other mutations are found between the transmembrane and extracellular domains and one of these at has been shown to cause rapid protein degradation within the endoplasmic reticulum  interestingly the sy mutation which is located in the catalytic core of the tri kinase domain has been specifically associated with metastatic tumors from both breast and hnscc     although it should be noted that another study failed to identify such mutations in metastases of breast lung and colon cancer   whilst mutations in tri are relatively rare loss of expression of tri is more frequently observed  table  it has been found in  hnscc  bladder carcinomas and  prostate cancers      in gastric cancer no mutations of tri have been found but downregulation of the tri demonstrated by a reduction in the level of tri mrna levels is observed in up to  gastric carcinomas when compared to the corresponding normal mucosa  this strongly suggests that downregulation of tri is important for the progression of gastric cancers one mechanism by which this downregulation could occur is through methylation of the promoter hypermethylation of cpg islands localized in the  region of the tri gene has been observed in  gastric cancers in one study  and  of gastric cancers in a second study  treatment of gastric cell lines with such hypermethylation with a demethylating agent results in increased expression of the tri gene     moreover in gastric cancers methylation of the tri promoter has been detected in  of msi cases compared with only  of mss cases  this suggests that like the batrii mutation hypermethylation of the tri promoter is an alteration that is frequently selected for during gastric tumorigenesis associated with msi   bmp type i receptor bmpraalk  as discussed above jp is an autosomal dominant gastrointestinal polyposis syndrome in which patients are at risk of developing gastrointestinal cancer the bmp type i receptor alk gene bmpra is located on chromosomal region q which has been mapped as a locus linked to jp  and germline mutations of bmpra have been identified in between  and  patients with jp depending on the study       most of the mutations are microdeletions or nonsense mutations that result in a frameshift leading to production of a truncated protein mutant receptors that only lack the kinase domain are expected to act as dominantnegatives since bmps would still be able to bind the receptor but no signaling would occur in contrast mutant receptors lacking the transmembrane domain would be nonfunctional and these mutations would be recessive some missense mutations have also been identified in jp patients that could result in conformational changes with functional consequences hence the identification of bmpra mutations in an average of  of jp patients provides strong evidence for its involvement in the development of jp strikingly no mutations of bmpra have been identified so far in sporadic carcinomas   activin type i receptor acvrbalk  two examples of mutations in the acvrb gene which encodes the activin type i receptor alk have been reported out of  pancreatic cancers studied  one mutation is a homozygous deletion of  bp which occurs at a bp repeat sequence ggct and removes the entire exon  of acvrb the other is a bp deletion that would cause a frameshift and early termination of translation and is associated with loh both mutations eliminate part of the kinase domain of acvrb these are the only examples so far which argue for a potential tumor suppressor role for acvrb   smad alterations in human tumors   smad dpcmadh  loh on chromosome q is found in about  of breast prostate neuroblastoma and cervical cancers and even more frequently in hnscc  nsclc  colon cancer  gastric cancer  and in up to  of pancreatic tumors     the minimal lost region that has been mapped to q contains at least three candidate tumor suppressor genes dcc deleted in colorectal carcinomas smaddpc deleted in pancreatic carcinomas locus  which encodes smad and madrjv madrelated gene  which encodes smad  for many years it was thought that dcc was the targeted tumor suppressor at this locus however no mutations have been identified in this gene in contrast the smad gene has been identified as a genetic target of this q loh in about  of pancreatic tumors  table   smad is homozygously deleted in about  of pancreatic carcinomas and inactivated by intragenic mutation in another  pancreatic tumors in conjunction with loss of the other allele this means that genetic alteration of smad in pancreatic tumors is almost as common as mutations in kras  p  and cdkna pinka    by contrast searches for smad mutations in other tumor types carrying q loh has led to the identification of mutations at a much lower frequency  table   biliary tract cancers  breast cancers bladder cancers and ovarian cancers  lung cancers  hcc and  cervical cancers        in colorectal carcinomas smad mutations have been identified at an average rate of  when many different analyses are considered          and mutations in smad were also found in  of familial adenomatous polyposis fap carcinomas and in  of hnpcc  the frequency of smad mutation in colon cancer however increases significantly when the analysis is made with respect to the msi status of the tumor whereas no smad mutations have been detected in msiassociated colorectal cancers  of nonmsi cancers exhibit smad alterations  moreover germline mutations in smad were identified in jp families after the discovery that this syndrome showed linkage to markers localized on q  to date smad germline mutations have been detected in more than  jp families and account for between  and  of jp patients the polyps from patients with a germline smad mutation have also lost the wildtype allele of the smad locus at q which supports the idea that smad acts as a tumor suppressor in jp  this idea is also strengthened by the finding that smad heterozygous knockout mice start to develop gastric polyps after the age of  year that are histologically similar to human juvenile polyps   in most cases smad mutations are clustered after codon  in the cterminal socalled mh domain of the protein that is involved in homo andor heterooligomerization of smad with the rsmads  the most frequent mutations observed in this region are nonsense or frameshift mutations that generate a truncated protein unable to bind other smads such cterminal truncations can also affect smad protein stability  missense mutations in the mh or in the nterminal mh domain have also been identified depending on the aminoacid substitution missense mutations have been shown in vitro to disrupt homooligomerization of smad or its interaction with activated smad dh rc vd de  alternatively they can generate a dominantnegative autoinhibited form of smad unable to bind smad rt  or an unstable protein that is degraded rapidly in comparison with the wildtype protein rt     or they can inhibit dna binding ls gv rt p  or inhibit nuclear translocation ls rt  immunohistochemistry has revealed however both in pancreatic cancers and in jp polypstumors that almost all of the tumors tested that contain mutated smad lack smad protein expression in contrast with the strong expression of smad in normal tissues or in carcinomas expressing wildtype smad     this suggests that smad mutations most commonly generate protein instability in tumors and that loss of the protein expression might be the major consequence of smad alterations in tumors   smad  the gene that encodes smad maps close to smad at q and has also been proposed to be a putative tumor suppressor target for q loh mutation of smad occurs at very low frequency  table  in  cervical cancers about  colorectal cancers  hcc and  nsclc         two cases of homozygous deletion have been observed in colon cancer but most of the mutations are missense mutations either in the mh or mh domains that have been proposed to affect smad phosphorylation de ph     nuclear translocation ph  or to increase smad autoinhibition rc  or to decrease protein stability lr qr       smad  mutation of the smad gene located on qq has not been identified in human tumors however loss of expression of smad in tumor samples compared with surrounding mucosa has been identified in three out of eight gastric cancers and in two out of nine gastric cell lines that have lost some tgf responsiveness  tumor suppressive activity of tgf in those two cell lines was restored by reintroducing smad this suggests that smad might be a target for epigenetic inactivation during gastric tumorigenesis and supports the finding that smad mice develop metastatic colon carcinoma  however it is likely that the putative tumor suppressor function of smad is dependent on other factors as mice with different genetic backgrounds did not show any malignancy       overexpression of antagonists  as discussed in section  there are several known inhibitors of the tgf signaling pathway for example the inhibitory smads smad and smad the e ubiquitin ligases smurf and  and the transcriptional repressors ski and snon overexpression of these inhibitors is known to inhibit tumor suppressive functions of tgf by decreasing tgf signaling and inhibiting tgfinduced growth arrest in tissue culture cell lines overexpression andor amplification of some of these inhibitory components has been detected in some human tumors   smad  the gene encoding smad is located in the q region and has been mapped between the genes encoding smad and smad within a  mb cluster  interestingly when the frequency of deletion of these  genes was compared in  dna samples of colorectal cancers smad and smad showed a higher deletion frequency  and  respectively than smad  the smad locus also appears to be more frequently amplified  than the smad  and smad  loci  therefore retention and even amplification of smad seems to be a selected event during progression of colorectal tumors this finding is in agreement with the frequent overexpression of smad observed in endometrial and thyroid follicular carcinomas     moreover ectopic smad overexpression has been shown to increase the tumorigenicity of a pancreatic tumor cell line when it is injected into nude mice    smurf  there is evidence for overexpression of the tgf antagonist smurf in human tumors in one study comprising  patients with esophageal squamous cell carcinoma scc high levels of smurf expression were detected by immunohistochemical staining in  of the surgical specimens  where staining was seen in tumor tissue it was particularly high at the tumor front since smurf expression in tumors appears to be associated with a loss of phosphorylated smad staining it is likely that overexpression of smurf inhibits tgf signaling in tumors however whether overexpression of smurf is sufficient to promote tumorigenesis remains unclear   skisnon  as observed for smad ski and the closely related gene snon can be both deleted or amplified in human tumors in  colorectal cancer samples partial or complete allelic loss was found in  and  for ski and snon respectively whereas amplification was found in  and  respectively  the more frequent deletion of ski and snon suggests that they might act as tumor suppressor genes which contradicts the fact that they were initially described as protooncogenes moreover chromosome regions p and q where ski and snon are located respectively have been reported to be deleted at high frequency in some cancers     and ski and snon heterozygous mice show an increased number of lymphomas compared to wildtype mice when challenged with carcinogens     however other evidence suggests that skisnon do indeed act as oncogenes in human cancer rather than as tumor suppressors first no mutations of skisnon have been reported so far suggesting that the chromosome region where they are located bears another tumor suppressor second the amplification at q is accompanied by a significant increase in the expression level of snon in esophageal scc suggesting that snon is a probable target for gene amplification in this region  third increased expression of skisnon has been detected in many different tumor types including breast cancer melanoma and esophageal scc        finally the amplification observed for skisnon in colorectal cancer is clearly associated with poor outcome whereas deletions are not this suggests that skisnon amplification is the selected event during the development of malignancy whilst deletions are not  overexpression of skisnon is able to repress growth arrest induced by tgf which could explain why this event is selected during tumor progression   another intriguing alteration observed for skisnon in human tumors is a change in their subcellular localization which is normally predominantly nuclear high nuclear levels of snon have been detected in  of breast carcinomas whereas  show high cytoplasmic staining  moreover nuclear and cytoplasmic staining of ski is frequently observed in advanced stage melanoma compared to normal skin tissue  cytoplasmic ski is able to form complexes with smad in the cytoplasm which prevents its nuclear translocation  therefore a combination of the cytoplasmic and nuclear ski could provide two levels of smad inhibition in tumors and could lead to a stronger disruption of smad signaling   increase of tgf secretion and activity in tumors  most of the tumor cell lines that harbor mutations in one of the components of the tgf pathway are resistant to tgfinduced growth arrest which is a tumor suppressive response of tgf however the role of tgf in tumorigenesis appears to be more complex than that of a classic tumor suppressor unexpectedly for a tumor suppressor tgf is very frequently overexpressed either at the mrna or protein level in most tumor types table  including breast esophageal lung colorectal gastric pancreatric prostate and hcc                 immunostaining indicates that both intracellular tgf and extracellular deposition of tgf is increased in mammary tumors  and moreover tissue adjacent to pancreatic tumors shows increased immunoreactivity  high levels of tgf were also detected in the serum of patients with colorectal carcinomas or hccs compared to normal patients       and serum levels were shown to decrease to the normal range following surgical resection of the tumor  altogether these observations show that not only is tgf production increased in tumor cells but so is its secretion in adjacent tissues and in the blood hence both autocrine and paracrine effects of tgf may promote tumor progression this tumor promoting role of tgf in tumors has been demonstrated in transgenic mice when tgf expression was targeted in keratinocytes  tgfexpressing mice exhibit a strong resistance to benign tumor formation after treatment with carcinogens which confirms the protective tumor suppressor function of tgf however once a tumor has developed the malignant conversion rate was significantly increased in transgenic mice compared to controls which confirms that tgf expression in tumors has a tumor promoting effect   clinical correlations for the different alterations of the tgf pathway in human cancer pathological analysis of resected tumor specimens allows the definition of tumor grade which is essential for the evaluation of the treatment needed by the patient however patients with tumors of the same stage can have very different clinical outcomes the molecular analysis of genetic and epigenetic alterations of signaling pathways that occur in the tumors has recently helped to give clues as to the different ways that tumors can evolve and it is of great interest to try to establish correlations between the molecular defects detected in tumors and clinical outcomes such as survival and tendency for metastatic spread the molecular defects could thus provide additional predictive markers to determine prognosis and plan appropriate treatment of patients having detailed the alterations that occur in tgf superfamily signaling pathway components we now review the different clinical correlations that have been observed for these pathways in human cancer it should be noted that such correlations do not necessarily imply that defects in the tgf signaling pathways are the primary cause of the observed clinical features since these molecular defects often occur in conjunction with other mutations or other mutagenic events such as msi moreover the number of samples in each study table  and whether the result has been reproduced independently also have to be taken in account when determining the statistical relevance of these correlations   tgf  consistent with the idea that tgf can act as a tumor promoter increased tgf mrna or protein expression in tumor cells andor its plasma levels has been correlated with advanced tumor progression in colorectal cancer gastric carcinoma nsclc and prostate cancer  table         intense tgf staining has also been significantly correlated with disease progression to metastasis in breast carcinoma prostate cancer and colorectal cancer      and serum levels of tgf are significantly higher in patients with nsclc or colorectal carcinoma that have lymph node metastases     moreover tgf staining has been shown to be stronger in the invading local lymph node metastases compared to the paired primary tumor site in colorectal and breast cancer     primary tumors that have metastasized have stronger tgf staining than those that have not and the metastases also exhibit strong tgf staining thus there is good evidence to suggest that tgf is a potent factor that promotes metastasis in late stage tumors this correlates with the ability of tgf to induce epithelialmesenchymal transition emt invasion and migration of both untransformed and tumor cell lines in vitro        high levels of tgf in tumors have also been shown to correlate with angiogenesis tgf expression is associated with high vascular density in prostate cancer  and high tgf plasma level in patients with hcc correlates with tumor vascularity  moreover tgf expression and vegf expression are closely correlated in gastric carcinoma  the fact that tgf knockdown mice exhibit defective vasculogenesis  and that tgf has been shown to induce vegf expression  strongly suggests that tgf might have a proangiogenic effect that would promote tumor progression  finally and possibly as a consequence of the proangiogenic and prometastatic behavior of tgf high expression of tgf in tumors is significantly associated with poor prognosis in many cancers      the year survival rate is better in patients that have tgfnegative gastric tumors than in those that have tgfpositive tumors  and lack of expression of tgf isoforms in tumors correlates with increased postoperative survival time  taken together these observations indicate that tgf isoforms might be useful biomarkers in the clinical management of patients with pancreatic colorectal gastric prostate and breast carcinomas   the type i and type ii tgf receptors  in colon cancer no batrii mutations have been detected in early msi adenomas which suggests that the acquision of tgfbr mutations is a late event that would be selected during adenoma to carcinoma conversion  in gastric cancer batrii mutations are restricted to advanced carcinomas  although hypermethylation of tri has been found both in early and in advanced carcinomas this suggests that inactivation of tri is an earlier event than trii inactivation during tumor development  what are the clinical consequences of tgf receptor alterations in cancers from the gastrointestinal tract the presence of msi which is associated with batrii mutations correlates with a better prognosis for gastric and colon cancers  moreover the year survival rate among patients whose colon cancer has high msi has been shown to be greater where there are tgfbr mutations in the tumors compared to patients whose tumors do not have tgfbr mutations  table  in breast cancernegative for the oestrogen receptor loss of expression of trii is correlated with a longer overall survival  taken together this suggests that trii alterations in cancer are associated with a better prognosis  in contrast when reduced expression of both trii and tri is considered a correlation with tumor grade in prostate breast and bladder cancers has been observed      reduced expression of trii and tri in esophageal scc appears also to be correlated with depth of invasion lymph node metastasis tumor stage and poor prognosis  interestingly loss of expression of tri seems to exhibit a more pronounced correlation with aggressive tumor phenotype than do trii alterations for example in bladder cancer only a decrease in tri expression was associated with an increased probability of tumor progression and a decreased probability of survival  moreover in breast cancer lymph node status was not significantly associated with loss of trii expression  but mutation of tri appears to be significantly more frequent in lymph node metastasis  finally in prostate cancer only the loss of tri expression showed a statistically significant association with the tumor stage year survival rate and serological recurrence rate after radical prostatectomy  therefore it appears that alterations of tri and trii do not have the same consequences for tumor progression it is not yet clear why this is the case although it might suggest that these receptors do not always function as obligate partners alternatively mutation of the type ii receptor may abolish all tgf signaling which is particularly the case for the batrii mutations as these lead to a nonfunctional protein in contrast alteration of tri by reduced expression or point mutation may only affect some aspects of tgf signaling as discussed in section  as yet no consistent correlations with clinical outcome have been reported for the acvr and alk receptors   smad and bmpra in juvenile polyposis  mutations in smad or bmpra account for an average of about  of all jp cases reported so far       patients with germline smad or bmpra mutations mut have a more prominent jp phenotype than those without mut although the mean age for symptoms and diagnosis is higher for mut patients than for mut cases this suggests that mut patients may carry an as yet undiscovered mutated gene which predisposes patients to an earlier age of onset for the disease  when compared patients with smad mutations show a higher predisposition to develop upper gastrointestinal polyposis than those with bmpra mutations or without any identified mutations  a more striking correlation was also reported in another study where a massive gastric polyposis was more commonly observed in patients with smad mutations than in patients with bmpra mutations or without identified mutations  taken together these data suggest that smad mutations have a stronger phenotype that predispose patients to polyposis than do bmpra mutations   smads  loss at q is associated with unfavorable outcome in patients with colorectal cancer stage ii gastric cancer hnscc and pancreatic adenocarcinoma       suggesting that mutation of the putative tumor suppressor on this chromosome arm may play significant roles in disease progression in colorectal carcinoma q loh is not an early event  that would initiate tumorigenesis but rather promotes progression of adenoma to invasive carcinoma as do smad mutations and loss of smad expression     these alterations were observed in between  and  of invasive carcinomas whereas none were observed in adenomas or stage i adenocarcinomas      smad mutations are associated with loss of the other allele in  invasive and metastasized carcinomas suggesting that the smad gene is one of true targets of q loh and that its inactivation is involved in more advanced stages of human colorectal carcinogenesis such as development of distant metastases   alteration of smad has also been shown to occur at later stages of pancreatic ductal tumorigenesis based on the fact that immunodetection of smad is lost in  of the advanced pancreatic duct lesion panin lesions but not in those characterized as earlier duct lesions panina paninb and panin  another study of intraductal papillarymucinous tumor ipmt thought to correspond to one of the premalignant neoplasms of the pancreas has also suggested that inactivation of smad is a late event since no loss of smad expression has been detected in these tumors  curiously q loh has been described as an early event in pancreatic tumorigenesis  and loh at the smad locus is frequently detected in ipmt  this suggests that loss of q could occur as a genetic change with no pathological significance in the early stages of tumorigenesis alternatively there may be an unknown tumor suppressor gene at q in addition to smad that is involved in pancreatic ductal carcinogenesis  although this needs to be clarified it is noticeable that smad alterations only account for about  of the q allelic loss observed in colorectal and pancreatic cancers suggesting the existence of another tumor suppressor at this locus   thus smad inactivation appears to be an intermediate event in both colorectal and pancreatic tumorigenesis and might therefore play a role in the acquisition of a more advanced tumor phenotype indeed there is evidence for this from mouse studies since heterozygous smadapc mice develop colon cancer whereas the apc mouse only develops intestinal adenomas  confirming that smad inactivation promotes adenoma to carcinoma progression it has been proposed that smad mutations occur during the transition of adenoma to carcinoma after the acquisition of sequential mutations of apc and kras in human colorectal cancer  or after kras cdkna pinka and p mutations during pancreatic cancer progression  interestingly significant correlation of smad alterations with metastasis has been detected in both hnscc and sporadic colon carcinomas      although the opposite was found in breast cancer  however it is not yet clear whether alteration of smad could be a prognostic marker that correlates with patient survival and clinical outcome in contrast to smad smad which is also localized on q is very infrequently mutated and no clinical correlations with smad alterations have been observed in any tumors   tgf signaling pathway inhibitory components  overexpressionamplification of inhibitors of the tgf pathway has been linked to a more aggressive tumor phenotype table  smad which also maps to q has been proposed to be a prognostic marker in patients with colorectal cancer  patients with deletion of smad have a favorable outcome conversely amplification of smad is associated with a significantly worse prognosis which suggests a graded effect on patient outcome depending on smad gene copy number similarly smurf overexpression in esophageal scc has been correlated with the depth of invasion lymph node metastasis and a poor survival rate   amplification of the negative regulator ski in colorectal cancer correlates with reduced relapsefree and overall survival whereas deletions do not correlate with prognosis no correlation however was observed in the same study for the amplification of the related gene snon  although immunostaining analysis has shown that reduced expression of snon in oestrogen receptorpositive breast tumors is significantly associated with a favorable clinical outcome  as mentioned above changes in subcellular localization of skisnon are also observed in tumors ski is predominantly nuclear in preinvasive melanomas but is both in the nucleus and cytoplasm in invasive and metastatic melanomas  although the mechanism underlying this remains to be defined it appears that cytoplasmic localization of skisnon is associated with a worse prognosis high levels of cytoplasmic snon in breast cancer are associated with adverse prognostic features whereas high levels of nuclear snon were associated with favorable prognostic features  although ski and snon seem to share some similarities it is still not clear whether they act through the same mechanism during tumor progression ski appears to be an independent prognosis factor in early stage colorectal cancer  whereas snon is a novel prognostic marker for erpositive breast cancers    are all tgf pathway alterations in tumors equivalent  mutations that affect different tgf superfamily receptors might have different consequences in human cancer  intuitively it seems likely that mutations in human tumors of different receptors for the different tgf superfamily ligands might have different outcomes since the activin bmp and tgf pathways are known to activate distinct sets of target genes and hence have different effects on cellular processes fig  for a review see  thus mutations of tri or tgfbr in tumors would specifically affect the tgf pathway whilst mutations of bmpra alk which are only observed in jp patients would only affect the bmp pathway similarly mutations of the acvrb alk receptor should specifically affect the activin pathway whilst mutations in acvr could affect both bmp and activin signaling however whilst the role of tgf in tumor progression and its overexpression in cancer has been well documented it is still unclear to what extent activin and bmp signaling are involved in cancer as discussed in the section above though alterations in some of the different receptors do have different clinical outcomes importantly most of the colorectal and pancreatic tumors that have polya tract mutations of the activin and bmp type ii receptor acvr have also polya tract mutations of the tgf type ii receptor tgfbr  this suggests that alteration of both the bmpactivin and the tgf pathways might be required for colorectal and pancreatic tumorigenesis and also indicates that pertubation of the bmpactivin pathway might not be sufficient to trigger tumorigenesis alone   two independent mutations in different pathway components sometimes occur in the same tumor  more intriguing and unexpected is the observation that hypermethylation of tri is frequently associated with batii mutations of tgfbr in msi sporadic gastric carcinomas  this is surprising as these alterations should both affect the tgf pathway mutations are acquired under selective pressure and therefore usually if signaling through a pathway has been altered due to mutation in one component there is no selective pressure to acquire another mutation in the same pathway therefore in the case of the tgf type i and type ii receptors it is not clear whether the combination of mutations in both components strengthens a common effect or whether alteration of the two receptors has two distinct effects it is possible that tri might in some circumstances function independently of trii and have some additional effects perhaps in conjuction with another type ii receptor this is suggested by the fact that mutation or downregulation of tri has a worse prognosis than mutation of trii however the alternative explanation for the difference in prognosis is that loss of trii may simply abolish all tgf signaling whilst alterations of tri may still allow some signal transduction see below  mutations in smad have also been found in conjunction with mutations in one of the tgf superfamily receptors either acvrb  or tgfbr  in the same tumor samples or cell lines again this is unexpected however given that smad is a common component of the tgf bmp and activin pathways this might reflect the fact that signaling through one pathway is first abolished at early stages of tumorigenesis by the acquisition of a receptor mutation and then signaling through the other tgf superfamily pathways is compromised by the smad mutation acquired later in tumorigenesis  another possibility is that smad may play an additional role to its role as a signal transducer in the activin and tgf pathways indeed it has been suggested that smad could act with snon as a transcriptional repressor in unstimulated cells  loss of smad might therefore lead to upregulation of target genes independently of tgf superfamily signaling which could contribute to tumor development or progression   some mutations in components of the tgf pathway might differentially affect tgf responses  as mentioned above of the tgf superfamily signaling pathways that are altered in human cancer the tgf pathway itself is by far the best understood however it is clear that even for this one pathway mutations in different components of the pathway often do not have the same effects on tumor development even when only positively acting components are considered fig  in addition in some contexts alteration of one component might have a certain clinical outcome yet in another type of cancer alteration of the same component might have very different consequences a good example of this is the differential effects that alteration of the type ii receptor can have on tumor development in different contexts in msi cancers of the gastrointestinal tract the presence of batrii mutations correlates with a better prognosis  however in prostate cancer loss of tumor trii expression has been found to be frequently associated with tgf overproduction and patients with both defects show particularly short survival when compared to patients with normal trii immunoreactivity  one explanation for this may lie in the dual role that tgf plays in tumorigenesis it is commonly accepted that the tgf signaling pathway plays a tumor suppressor role and a tumor promoting role  the tumor suppressive role is thought to be associated with the growth inhibitory and apoptotic responses to tgf and the tumor promoting role thought to reflect the positive effects of tgf on tumor cell invasion emt and metastasis and also on angiogenesis and immune suppression  when some components of the tgf pathway are altered it may be possible to lose the tumor suppressive effects of tgf but to retain the tumor promoting effects thus in the example above loss of trii expression as detected by immunohistochemistry in the prostate cancer samples may reflect only a reduction in trii levels that may be sufficient for the tumor cells to become resistant to the tumor suppressive effects of tgf but still allow the tumor promoting effects in fact as detailed below there is increasing evidence from different studies to indicate that some alterations of trii tri smad or smad observed in human tumors might differentially affect the tgf target genes and functions   tgf receptor mutations  many studies have shown that trii mutations in human tumors abolish tgfinduced growth inhibition however it has been proposed that some point mutations of either tri or trii might generate receptors unable to induce tgfmediated growth arrest but still able to affect extracellular matrix remodeling that can be construed as a tumor promoting effect  deletion or point mutation of the juxtamembrane region of tri impaired tgfinduced growth arrest but not induction of pai and fibronectin  similar findings were observed for the trii germline point mutation tm identified in a kindred of hnpcc without msi  when compared to the introduction of wildtype trii in the dr cell line deficient for trii the tm mutant failed to restore tgfinduced growth arrest and transcriptional upregulation of pinkb but was still able to induce pai which has been implicated in tgfinduced migration     these observations may be related to the finding that a mutant form of tgf with a reduced ability to activate the type i and type ii tgf receptors is  as potent as native tgf in the induction of pai but less than  as efficient as native tgf in inhibition of cell growth in the same cell line  a threshold model might explain this uncoupling where the full activities of both the type ii and type i receptors are required for the antiproliferative responses to tgf but not for other tgf responses such as the induction of pai weak activation of the pathway could both reduce the levels of active smads in the nucleus  and also their time of residence there  this would affect how strongly tgf target genes are induced or repressed and also the duration of their inductionrepression it is thus tempting to speculate that lowering the activation of the tritrii receptor complex in tumors either by point mutation or by decreasing but not abolishing receptor levels could impair specifically the tumor suppressor function of tgf but not other prooncogenic tgf functions however whereas the loss of tgfinduced growth arrest has been shown many times in tumor cell lines     the retention of tumor promoting activity in these instances remains to be demonstrated   smad mutations  in the case of smad although mutations have not been found levels of smad have been found to be lower in some human tumor cells and loss of smad has been shown to accompany emt in the canine cell line mdck     it is interesting to speculate that the lower levels of smad may be sufficient to abolish the growth suppressive effects of tgf     but not the emt response and migration that has been associated with tgfs tumor promoting effects      loss of smad was originally proposed to result in loss of all tgf signaling as it was thought to be a critical component of the pathway     however genetic studies as well as studies carried out in tissue culture cells suggest that smad might not be required for all responses by tgf family members        we have recently shown using cell lines expressing a tetinducible smad sirna that loss of smad leads to loss of only a subset of tgf target genes and to a specific loss of tgfmediated growth arrest and migration but not of the tgfinduced cell spreading and emt  this is in agreement with the proposal that tgfinduced emt might be a smadindependent process utilizing the rhoa pathway and its target prock these observations suggest that tumor cells that have lost smad might not be sensitive to the tumor suppressor function of tgf but still sensitive to tgf induced prooncogenic functions such as emt more work is required to confirm this idea in human tumors   unanswered questions much is now known about the role of tgf superfamily signaling pathways in human cancer in terms of what sort of alterations are observed in components of these pathways in human tumors and it is beginning to be understood how these alterations correlate with clinical outcome however there are still many questions that remain to be answered what is the relevance of the activin and bmp pathways to human cancer why are only a subset of the receptors for these family members found to be mutated in human tumors what is the basis for the tissue specificity seen for the alterations in different components of the tgf superfamily pathways for instance why is smad predominantly mutated or deleted in colorectal and pancreatic cancers but not in cancers derived from other organs what triggers the switch between tgf acting as a tumor suppressor to it acting as a tumor promoter what role does the tumor stroma play in this process what is the mechanism of tgfs tumor promoting activity does the secreted tgf have a direct effect on the tumor cells themselves promoting their invasive and metastatic activities or does it reflect its activity as a promoter of angiogenesis and as an immune suppressor finally with our current knowledge of tgf signaling pathways in human cancer will it be possible to develop therapeutics that will specifically inhibit tgfs tumor promoting effects without inhibiting its tumor suppressive effects given the intense activity in this field these questions should soon be answered  a subset of colorectal carcinomas exhibit a molecular phenotype commonly referred to as high microsatellite instability msih  the microsatellite instability msi pathway begins with the inactivation of one of a group of genes responsible for dna nucleotide mismatch repair mmr which leads to extensive mutations in both repetitive and nonrepetitive dna sequences  the mechanism of tumorigenesis in msih tumors is thought to involve frameshift mutations of microsatellite repeats within the coding regions of affected genes and the inactivation of these genes is believed to contribute directly to tumor development and progression  the frameshift mutations observed in the affected genes are expected to generate previously undescribed amino acid sequences in the cterminal part of the respective proteins figure s if abnormal mrnas and proteins are generated from the frameshiftmutated genes tumorspecific antigen may be generated high peritumoral lymphocytic infiltration and a relatively good prognosis have been reported in msih tumors one of the important consequences of frameshift mutations is the formation of premature termination codons ptcs in mammalian cells mrnas containing a ptc due to a nonsense mutation or a frameshift mutation are recognized and degraded by nonsensemediated mrna decay nmd thus eliminating the production of the potentially deleterious truncated proteins  nmd of mrnas carrying ptcs is mediated through the recognition of the ptc by its position relative to the most last exonexon junction as a general rule mammalian transcripts that contain a ptc more than  nucleotides nt upstream of the last exonexon junction will be subjected to nmd although ptc formation in frameshift mutationderived mrnas and their subsequent degradation through nmd is widely accepted ptcs located within  nt or downstream of the last exonexon junction are not recognized by nmd nmdirrelevant and some mrnas with ptcs more than  nt upstream of their last exonexon junction are not degraded by nmd nmdescape  in msih tumors several nmdsensitive or nmdescape ptccontaining mrnas have been reported a previous study compared the total mrnas of affected genes from various cell lines  however this study did not differentiate the proportion of wildtype and mutant mrnas and did not confirm the mutant mrnas through sequencing this study also did not consider that the amount of mrna from the affected genes might vary between cell lines moreover the expression statuses and biological effects of the nmdescape ptccontaining mrnas are essentially unknownin order to clarify the protein expression status of affected genes with frameshift mutations and the role of nmd in these mutated genes we selected msih cancers as a model system because these cancers have accumulated genes with frameshift mutations and the mrnas expected from these mutated genes contain ptcs we analyzed the expression of  mutant mrnas from  genes and evaluated their regulation along with the regulation of associated proteins we demonstrate that some ptccontaining mrnas escaped from nmd but did not generate truncated proteins indicating that ptccontaining transcripts can be regulated either by nmd or translational repressionresultsgenes with frameshift mutations form ptcs in their mrnasto examine the effect of nmd on the affected genes with frameshift mutations in msih tumors we selected  genes from msih tumors based on the reported frameshift mutation frequencies greater than  abcf acvr hmsh hmsh hrad marcks prkwnk rfc sec tafb tcf and tgfbr we used genome sequencing of these  genes to identify frameshift mutation status in these  genes we identified  frameshift mutations that fell into three categories  mutations were single base pair bp deletions six were bp deletions and two were single bp insertions in coding mononucleotide repeats cmnr table s all  frameshift mutations of the  genes resulted in mrnas containing a ptc table thumbnaildownloadppt powerpoint slidepng larger imagetiff original imagetable expressions of frameshift mutant mrnas in mmrdeficient colorectal cancer cell lineshttpsdoiorgjournalpbiotidentification of nmdescape ptccontaining mrnaswe analyzed mrna expression of the  genes by reverse transcriptase pcr rtpcr in seven mmrdeficient lst hct snu ca snu c dld hct and lovo and three mmrproficient ncih sw and ht colorectal cancer cell lines primers were designed to contain at least one exonexon junction region and to amplify the coding repeat sequences table s of the  frameshift mutations in the genomic dna mutationderived transcripts were detected from ten alleles representing six genes hmsh tafb tgfbr acvr marcks and tcf whereas ten alleles representing six genes abcf hmsh hrad prkwnk rfc and sec did not generate frameshift mutationderived transcripts no differences in expression of frameshift mutationderived mrna were observed between cell lines of the ten transcripts with frameshift mutations five transcripts representing three genes hmsh tafb and tgfbr had ptcs more than  nt upstream of the last exonexon junction and were therefore expected to be degraded by nmd but instead escaped from nmd nmdescape on the other hand the five remaining transcripts representing three genes acvr marcks and tcf had ptcs within  nt upstream of the last exonexon junction and were therefore expected to be irrelevant to nmd nmdirrelevant accordingly the  transcripts from  genes were classified as nmdsensitive nmdescape and nmdirrelevant table in order to confirm the effect of nmd on the nmdsensitive and nmdescape ptccontaining mrnas we used rtpcr and a ribonuclease protection assay rpa to analyze the expression of the target gene mrnas after treatment with puromycin a translation inhibitor in the five nmdescape alleles that generated detectable frameshift mutationderived mrnas no expression differences were found after puromycin treatment in the ten nmdsensitive alleles that produced no detectable frameshift mutationderived mrnas mutant transcripts were detected after puromycin treatment figure s we analyzed the amount of two degraded nmdsensitive transcripts hrad and hmsh by rpa and found a total loss of mutant transcripts as evidenced by a fold increase in hrad and hmsh products after puromycin treatment in contrast there was no loss of tgfbr mutant mrna an nmdescape transcript because the amount of product was unchanged after puromycin treatment figure thumbnaildownloadppt powerpoint slidepng larger imagetiff original imagefigure  measurement of degraded premature termination codoncontaining mrnas by rpa analysisno loss of tgfbr mutant transcripts was noted after puromycin treatment in contrast the amount of hrad and hmsh mrna doubled after puromycin treatment gapdh was used for standardization the asterisk indicates mutation status of each gene  denotes a bp deletion in the cmnr w denotes no mutation in the cmnr  denotes a bp insertion in the cmnr and  denotes a bp deletion in the cmnrhttpsdoiorgjournalpbiognext we evaluated the effect of downregulating upf or upf which are key nmd factors on the stability of the frameshift mutationderived mrnas hrad and hmsh using specific small interfering rna sirna upon the treatment of luciferase sirna expression of the mutationderived hrad and hmsh mrnas were not detected in the cell lines with hrad and hmsh mutations in contrast downregulating upf or upf abundantly increased the frameshift mutationderived mrnas as confirmed by rtpcr and sequence analysis these findings indicate that frameshift mutationderived mrnas of hrad and hmsh are recognized and degraded by the nmd system figure struncated proteins from nmdescape ptccontaining mrnas of hmsh are not detected by western blottingin order to determine if the truncated protein products from ptccontaining mrnas can be detected we first performed western blotting analyses using antibodies directed against the nterminus of hrad hmsh and hmsh truncated proteins were not detected for the nmdsensitive hrad and hmsh genes whereas wildtype proteins were detected in the cell lines containing the wildtype allele these results support the previous finding that nmdsensitive ptccontaining mrnas are degraded by the nmd system in the nmdescape hmsh gene we detected fulllength hmsh proteins in cell lines with no mutations or with monoallelic mutations in these genes however we could not detect truncated hmsh proteins in any of the cell lines carrying frameshift mutations figure  the hmsh antibody detected the truncated proteins from the cell lines transfected with mutant hmsh cdna indicating that the antibodies used in our experiments specifically react with the nterminal region of hmsh protein figure s furthermore we could not detect the truncated proteins of hmsh genes after treatment with the proteasome inhibitors mg or e unpublished data which excludes the possibility of rapid degradation of mutated proteinsthumbnaildownloadppt powerpoint slidepng larger imagetiff original imagefigure  western blotting analysis of nmdsensitive and nmdescape proteinstruncated proteins were not detected in nmdsensitive hrad and hmsh genes whereas wildtype proteins were detected in the cell lines containing the wildtype allele in the nmdescape hmsh gene wildtype hmsh proteins were detected in the cell lines containing the wildtype allele however no truncated proteins of hmsh were detected in the cell lines with frameshift mutation gapdh was used as a loading control the single asterisk indicates mutation status of each gene  denotes a bp deletion in the cmnr w denotes no mutation in the cmnr and  denotes bp insertion in the cmnr the double asterisk indicates frameshift mutations of the other coding regions present in both alleles of dld  the dagger indicates that the expected size of the truncated protein is indicated by the arrowhttpsdoiorgjournalpbiogselective translational repression of mutant tgfbr following normal splicingwe interpreted the failure to detect truncated protein from the nmdescape ptccontaining mrnas as follows  truncated proteins were generated but at an amount not sufficient for detection by western blotting  truncated proteins were generated but then rapidly degraded or  truncated proteins were not generated from the mutant mrnato rule out an insufficient amount of endogenous truncated proteins we constructed expression plasmids with nmdescape ptccontaining genomic dna or cdna of tgfbr  wildtype cdna of tgfbr k tgfbrwtcdna  ptccontaining mutant cdna of tgfbr without downstream exons and introns l tgfbrcdna  wildtype tgfbr genomic dna m tgfbrwtsplicing  mutant tgfbr genomic dna with a bp deletion n tgfbrsplicing and  mutant tgfbr genomic dna with a bp deletion and a ptc artificially located in the last exon o tgfbrirrelevant figure a among three nmdescape ptccontaining mutated genes that we found in msih tumors we selected tgfbr tafb and hmsh were excluded because of their large size and number of exons which result in the failure or inefficient transfection of genomic dnathumbnaildownloadppt powerpoint slidepng larger imagetiff original imagefigure  transfection assay of the tgfbr vectora schematic diagram of construct k tgfbr wildtype cdna construct l tgfbrdeleted cdna construct m tgfbr wildtype genomic dna construct n tgfbrdeleted genomic dna and construct o tgfbrdeleted genomic dna with a ptc artificially located in the last exonb analysis of tgfbr mrna by northern blotting the abundant expression of tgfbr mrnas from the transfected constructs is shown actin was used as a rna loading control con denotes the control vector psectagbc western blotting using antiflag protein expression of transfected tgfbr constructs cell lines transfected with the constructs k and m expressed wildtype tgfbr cell lines transfected with the constructs l and o expressed truncated tgfbr however cell lines transfected with construct n did not express truncated tgfbr indicating translational repression after normal splicing con denotes the control vector psectagb enhanced green fluorescent protein egfp was used as a transfection controld sucrose gradient fractionation of cytoplasmic extracts from cells expressing tgfbrwtsplicing mrnae sucrose gradient fractionation of cytoplasmic extracts from cells expressing tgfbrsplicing mrnaf tgfbrwtsplicing transfected cells were treated with puromycin prior to lysis and fractionationg tgfbrsplicing transfected cells were treated with puromycin prior to lysis and fractionationin d e f and g rna extracted from each fraction was subjected to rtpcr endogenous gapdh mrna was used as a control tgfbrwt mrna was found in the polysomecontaining fractions similar to endogenous gapdh mrna however a greater percentage of ptccontaining tgfbr mrna was found in the fractions containing ribosomal subunits and monosomes the plots denote quantitative representation of tgfbr mrna distribution in polysome gradients relative mrna levels in each fraction were calculated as a percentage of the total results from two independently performed experiments did not vary and the plot represents the average of the two independent experimentshttpsdoiorgjournalpbiogin all of the constructs described above the nucleotide sequences encoding flag peptide was introduced immediately downstream of the initiation codon which allows for detection of the encoded proteins by western blotting these vectors were designed to differentiate the effect of spliced wildtype mrna spliced mutant nmdescape mrna and spliced mutant nmdirrelevant mrna in terms of truncated protein expression we observed abundant expression of ptccontaining tgfbr mrna in cell lines transfected with tgfbrcdna tgfbrsplicing and tgfbrirrelevant figure b cell lines transfected with tgfbrwtsplicing tgfbrsplicing and tgfbrirrelevant showed accurate splicing and all normal and mutant mrna products were confirmed by sequence analysis unpublished data a semiquantitative rtpcr analysis designed to detect exogenous tgfbr mrna showed similar and abundant amounts of tgfbr mrna expression in all of the cell lines transfected with the five different constructs unpublished data in this analysis of protein expression using the antiflag antibody we demonstrated the expression of wildtype tgfbr protein in cell lines transfected with tgfbrwtcdna and tgfbrwtsplicing we also demonstrated the expression of truncated tgfbr protein in cell lines transfected with tgfbrcdna and tgfbrirrelevant intriguingly we could not detect any tgfbr protein in cell lines transfected with tgfbrsplicing indicating a selective translational repression of nmdescape mutant mrna figure cptccontaining tgfbr mrna does not associate with polysomesin order to confirm that translational repression is responsible for the failure to detect truncated protein from ptccontaining tgfbr mrna we examined the mrna distribution of tgfbrwtsplicing and tgfbrsplicing by polysome analysisin the cell line with the tgfbrwtsplicing vector tgfbrwtsplicing mrna was found in the polysomecontaining fractions similar to endogenous gapdh mrna figure d however in the cell line with the tgfbrsplicing vector a greater percentage of tgfbrsplicing mrna was found in the fractions that contained ribosomal subunits and monosomes whereas endogenous gapdh mrna cosedimented with polysomes figure e furthermore upon the treatment of puromycin a greater percentage of tgfbrwtsplicing mrna and endogenous gapdh mrna were shifted into ribosomal subunits and monosomecontaining fractions figure f in order to rule out the possibility that the weak polysome association of tgfbrsplicing mrna is due to its shorter open reading frame as compared to the tgfbrwtsplicing mrna we repeated the same experiment using the tgfbrsplicing vector with puromycin treatment the results show that there is no significant difference in the cell line transfected with tgfbrsplicing after puromycin treatment figure e and g these results indicate that  the sedimentation of tgfbrwtsplicing mrna in heavy fractions was due to polysome association and  the shift of tgfbrsplicing mrna into ribosomal subunits and monosomecontaining fractions is due to translational repression similar to tgfbrwtsplicing mrna and tgfbrsplicing mrna treated with puromycin figure eg this novel mechanism whereby ptc recognition itself triggers translational repression is referred to as nonsensemediated translational repression nmtrfactors involved in translational repression of nmdescape mutant mrnawe demonstrated the selective translational repression of the nmdescape mutant tgfbrsplicing mrna after normal splicing and this repression was not found in the nmdirrelevant mutant tgfbr mrna which lacks a downstream sequence of the termination codon therefore we examined other possible factors influencing the expression of the truncated protein by  changing the  utr length the length between the ptc and polya tail to check the possible effect of  utr length on translational repression   treating with a proteasome inhibitor mg in the cell lines transfected with tgfbrsplicing and tgfbrirrelevant to rule out that the truncated proteins are generated but rapidly degraded by the proteasome and  downregulating key nmd factors upf and upf to evaluate whether nmd factors are involved in the translational repression of nmdescape ptccontaining spliced tgfbr mutant mrnain order to change the  utr length we constructed another tgfbrirrelevant with a fulllength cdna sequence spanning from the ptc to the  end of tgfbr p tgfbrirrelevantf figure a when the genomic dnas of tgfbrsplicing tgfbrirrelevant and tgfbrirrelevantf were transfected normal splicing and a large amount of mutant mrnas were present in all three cell lines transfected with the different genomic dnas figure c however no proteins were expressed in the cell lines transfected with tgfbrsplicing whereas a large amount of truncated proteins were expressed in the cell lines transfected with tgfbrirrelevant in the cell lines transfected with tgfbrirrelevantf the amount of truncated proteins was reduced to about  of that of the cell lines transfected with tgfbrirrelevant these findings indicate that the  utr length itself or specific cisacting elements within the  utr seem to contribute to the translational inhibition of tgfbr mrna however more importantly a splicing event downstream of the ptc may be involved in nmtr because truncated proteins are expressed in cells transfected with tgfbrirrelevantf but not in cells transfected with tgfbrsplicing figure dthumbnaildownloadppt powerpoint slidepng larger imagetiff original imagefigure  both  utr and splicing are important for translational suppression of ptccontaining tgfbr mrnaa schematic diagram of constructs p nmdirrelevanttype tgfbrdeleted construct containing a full coding sequence o and nb western blotting using antiupf antiupf or as a loading control antigapdhc analysis of tgfbr mrna by northern blotting the abundant expression of tgfbr mrnas from the transfected constructs is shown actin was used as a rna loading controld protein expression of transfected tgfbr constructs truncated proteins are not expressed in the cell lines transfected with tgfbrsplicing whereas truncated proteins are expressed by cell lines transfected with tgfbrirrelevant and tgfbrirrelevantf the amount of truncated protein from the tgfbrirrelevantf is approximately  of tgfbrirrelevant indicating that the  utr length or ciselements affect translational efficiency truncated proteins are not detected from cell lines transfected with tgfbrsplicing when treated with mg a proteasome inhibitor truncated proteins are not generated from cell lines transfected with tgfbrsplicing when upf and upf are knocked down by sirna indicating that upf and upf do not have an important role in the translational repression of tgfbrsplicing mrna enhanced green fluorescent protein egfp was used for transfection control con denotes the control vector psectagb luci denotes luciferase sirnahttpsdoiorgjournalpbiogwe excluded the possibility that mutated proteins are generated but then rapidly degraded by the proteasome because cell lines transfected with tgfbrsplicing and treated with mg a proteasome inhibitor demonstrated no truncated proteins in contrast the cell lines transfected with tgfbrirrelevantf and treated with mg demonstrated similar amounts of truncated proteins compared to cell lines only transfected with tgfbrirrelevantf figure dfinally we evaluated whether key nmd factors are involved in nmtr we expected that the most significant difference between ptccontaining tgfbr mrna and ptccontaining tgfbr mrna which lacks an intron downstream of the ptc would be the presence of exon junction complexes ejcs behind the ptc an ejc recruits the nmd factors upf and upf which play a key role in mrna quality control we treated cells with upf and upf sirna in order to elucidate whether these two nmd factors are involved in nmtr the level of upf was downregulated to about  of normal where normal is defined as the level in the presence of the nonspecific control luciferase sirna whereas the level of upf was downregulated to about  of normal figure b treatment of any of the sirnas failed to produce truncated proteins in the cell lines transfected with tgfbrsplicing indicating that at least these two nmd factors do not play an important role in the nmtr of nmdescape mutant tgfbr mrna figure dnmdirrelevant mutant mrna of marcks generates truncated proteinswe then examined whether nmdirrelevant ptccontaining mrna can generate truncated protein we selected one nmdirrelevant mrna mutant marcks and performed a transfection assay using wildtype marcks genomic dna marckswtsplicing and mutant marcks genomic dna with a bp deletion marckssplicing figure athumbnaildownloadppt powerpoint slidepng larger imagetiff original imagefigure  truncated protein expression from mutant nmdirrelevant marcks mrnaa schematic diagram of construct q marcks wildtype genomic dna and construct r marcks deleted genomic dnab western blotting wb analysis of total protein  g isolated from transiently transfected cell lines with constructs q or r an antibody against flag was used as the primary antibodyc western blotting wb analysis of total protein  g isolated from transiently transfected cell lines with the constructs q or r was performed using an antibody against marcks enhanced green fluorescent protein egfp was used as a control for transfection efficiency comparable results were obtained in at least two independent experiments asterisks  denote endogenous marcks reacted with antimarcks antibody con denotes the control vector pcdna the dagger indicates uncharacterized protein that did not interfere with experimental interpretationshttpsdoiorgjournalpbiogwe found expression of wildtype and truncated protein in cell lines transfected with marckswtsplicing and marckssplicing respectively by western blotting with an antiflag antibody figure b to verify that these protein products were identical to marcks we performed western blotting with the antimarcks antibody and confirmed the expression of wildtype and truncated proteins figure c we also found that the truncated marcks protein is subject to active proteasomemediated degradation the amount of truncated marcks protein increased with time when cells were treated with mg a proteasome inhibitor figure b and cdiscussionin this study we found that some ptccontaining mrnas are not degraded by the nmd system and their protein translations are repressed we therefore suggest that ptccontaining mrnas resulting from frameshift mutations can be classified into three groups nmdsensitive mrnas which are degraded by the nmd system nmdescape mrnas which are not degraded by the nmd system but do experience repression of protein expression and nmdirrelevant mrnas which are not recognized by the nmd system and generate truncated proteins our findings indicate that both nmd and nmtr an additional surveillance mechanism for translational control are involved in the recognition of ptc and suppression of truncated protein from ptccontaining genes that can be deleterious to cell function figure thumbnaildownloadppt powerpoint slidepng larger imagetiff original imagefigure  schematic model for the functional consequences of the three classes of ptccontaining mrnasnmdsensitive mrnas are degraded by the nmd system nmdescape mrnas are not degraded by the nmd system but experience repression of protein expression nmdirrelevant mrnas are not recognized by the nmd system and generate truncated proteinshttpsdoiorgjournalpbiognmd is a quality controlbased surveillance mechanism that protects cells from the potentially dominant negative effects of truncated mutant proteins the primary role of the nmd pathway is to eliminate nonsense transcripts that result from faulty transcription alternative splicing or somatic mutation  this pathway selectively degrades mrnas that prematurely terminate translation due to a frameshift or nonsense mutation although nmd is a quality controlbased surveillance mechanism avoidance of nmd by ptccontaining mrnas has been reported for the mutated genes of many diseases moreover about one third of the alternative transcripts in cells are expected to contain ptcs due to splicing errors and regulated unproductive splicing and translation rust some of these ptccontaining mrnas belong to the nmdescape variety  if translated these nmdescape mrnas could produce truncated proteins that may critically interfere with cell viability among the ptccontaining mrnas some ptcs which are called nmdirrelevant mrnas are located within  nt or downstream of the last exonexon junction and are not detected by nmd proteins generated from these types of ptccontaining mrnas and their causal relationship to specific diseases have been well documented  however there are no reports describing translated proteins from mutationderived nmdescape mrnas although many nmdescape ptccontaining mrnas have been reported in this study we demonstrated that nmdescape tgfbr mrna is subject to nmtr our transfection study of tgfbr constructs demonstrated that ptccontaining mrnas from mutant tgfbr were abundant after transfection of mutant cdna and mutant tgfbr genomic dnas with a bp deletion however truncated proteins were only detected in the cell lines transfected with mutant tgfbr cdna and no truncated proteins were detected in the cell lines transfected with mutant tgfbr genomic dnas with a bp deletion in contrast strong expression of tgfbr protein was observed in the cell lines transfected with wildtype tgfbr genomic dna next we confirmed using polysome analysis that the lack of truncated protein translated from ptccontaining tgfbr mrna is due to translational repression not instability of tgfbr mrnathe major expected differences between the two ptccontaining tgfbr mutant mrnas and mrna from the cdna of tgfbr or tgfbr genomic dna are the deposition of the ejc and the possible recruitment of nmd factors to the mrna during translation termination we also confirmed the nmtr by demonstrating that mutant mrna and truncated proteins were efficiently expressed in the cell line transfected with mutant tgfbr genomic dna containing a ptc in the last exon without downstream introns figures c and d we therefore suspected that ejc proteins andor nmd factors might play an important role in the nmtr it is well known that nmd recognizes ptc and downstream splicing events that deposit an ejc at an exonexon junction the ejc is composed of proteins involved in splicing and the subsequent steps of mrna transport and translation eifa rnps y and magoh are involved in ejc formation and the ejcmrna complex is then exported to the cytoplasm together with nuclear cap binding proteins cbp and nuclear polya binding protein  pabp  the mrna then recruits upf and undergoes a socalled pioneer round of translation during mrna export nmd occurs when translation terminates more than  nt upstream of the last exonexon junction transient surf formation at the termination codon which is composed of smg upf and translation termination factors erferf is thought to interact with the downstream ejc so as to trigger phosphorylation of upf and thereby elicit nmd  in this study we demonstrated that key nmd factors upf and upf did not play an important role in the nmtr which is evidenced by the fact that treatment of upf and upf sirna did not produce truncated proteins in cell lines transfected with tgfbrsplicing even though both sirnas drastically downregulate endogenous upf and upf moreover downregulating y or eifa which are ejc components using sirna failed to restore translational repression of tgfbrsplicing unpublished data our results indicate that nmtr is at work on the nmdescape ptccontaining tgfbr mrna by some unknown surveillance mechanism the involvement of another messenger ribonucleoprotein particle mrnp complex in this translational repression is essentially unknown future studies should be focused on the role of translational repression of the various rna binding proteins in the ptccontaining mrnp complexseveral recent reports have demonstrated the importance of termination codon context especially  utr length in ptc recognition  therefore we tested two tgfbrirrelevant vectors with short and extended  utr lengths if the ptccontaining  utrextended construct failed to produce truncated protein then unlike nmd splicing and ejcs may not be involved in the mechanism of nmtr in this experiment we demonstrated a  reduction of truncated protein in the cell lines transfected with tgfbrirrelevant vector with an extended  utr length these findings indicate that  utr length is an important factor however other important factors are involved in nmtr because nmtr depends on  utr length or a putative ciselement residing in the  utr it is in part reminiscent of ejcindependent nmd a ptc within the penultimate exon of the globin or tpi gene elicits nmd depending on the position of ptc relative to the last ejc  however for a ptc within the penultimate exon that normally elicits nmd deleting the last intron fails to eliminate nmd indicating that the last exon has a socalled failsafe sequence that allows for ptc recognition and triggers nmd in the absence of a downstream ejc intriguingly this element requires that splicing occur upstream of the ptc because the ptccontaining mrna that is derived from an intronless tpi or globin gene is immune to nmd  it remains to be clarified whether nmtr also requires a splicing event upstream of the ptc recently another case for ejcindependent nmd has been reported in immunoglobulin mrna  similar to nmtr ejcindependent nmd of this mrna depends on the  utr length however the mode of ptc recognition looks quite different between nmtr and ejcindependent nmd of this mrna in the sense that nmtr does not require the nmd factors upf and upf as shown in our study important questions of whether mrnas targeted by ejcindependent nmd are subject to nmtr should be addressedmarked degradation of ptccontaining mrnas and decreased protein synthesis from ptccontaining mrnas by the nmd system have been reported in yeast  another important mrna surveillance mechanism nonsensemediated altered splicing nas has been reported in mammalian cells  nas induces alternative splicing in the ptccontaining mrna thus avoiding the production of toxic mutant proteins although the exact mechanism of nas had not been reported upf plays an important role in nas  together with our findings that upf did not play a significant role in nmtr all of these findings indicate that  nmd nas and nmtr play important roles in the inhibition of deleterious mutant protein production and  unlike nmd and nas upf and upf do not a play key role in nmtr suggesting novel factors or pathways exist in the nmtrin conclusion we demonstrated three different molecular pathways of ptccontaining mrnas we propose a novel mechanism of gene expression regulation for ptccontaining mrnas in which the deleterious transcripts are regulated either by nmd or nmtr future studies of the nmd and nmtr control mechanism will enable us to better understand the reason for specific protein expression among the numerous mrna isoforms as well as the selective cellular control mechanism of protein expression the mutational inactivation of transforming growth factor  receptor type ii tgfbr occurs in  of colon cancers and promotes the formation of colon cancer by inhibiting the tumor suppressor activity of the tgfb signaling pathway tgfbr mutations occur in  of microsatellite unstable msi colon cancers and affect a polyadenine tract in exon  of tgfbr called batrii which is vulnerable to mutation in the setting of dna mismatch repair mmr system deficiency in light of the vulnerable nature of the batrii tract in the setting of mmr inactivation and the favorable effects of tgfbr inactivation in colon cancer analysis of tgfbr inactivation provides an opportunity to assess the roles of genomic instability vs clonal selection in cells acquiring tgfbr batrii tract mutations in msi colon cancer formation the contribution of genomic instability andor clonal evolution to the mutational inactivation of tgbfr in msi colon cancers has not been studied in a systematic way that would allow a determination of the relative contribution of these two mechanisms in the formation of msi colon cancer it has not been demonstrated whether the batrii tract mutations are strictly a consequence of the batrii region being hypermutable in the setting of mmr deficiency or if the mutations are rather a consequence of clonal selection pressure against the tgfb receptor through the use of defined cell line systems we show that both genomic instability and clonal selection of tgfb resistant cells contribute to the high frequency of tgfbr mutations in msi colon cancer   wileyliss inc introduction  transforming growth factor  tgfb is a multifunctional cytokine and has been implicated in the pathogenesis of many types of cancer including colon cancer in normal colon epithelial cells tgfb signaling can induce cell cycle arrest apoptosis and differentiation which would be predicted to suppress neoplasm formation in the colon massague et al sporn and roberts massague chakrabarty huang and chakrabarty transformed epithelial cells are often resistant to tgfb induced growth inhibition and apoptosis wang et ala grady et al the mechanism for this resistance is most commonly mutational inactivation of an essential component of the tgfb receptor tgfbr roberts  tgfbr is mutated in  of colon cancers that demonstrate microsatellite instability msi and in  of microsatellite stable mss colon cancers parsons et al thus mutational inactivation of tgfbr is a relatively common event in colon cancers the mutations typically seen in msi colon cancers which are deficient in dna mismatch repair mmr function are in a mutation vulnerable polyadenine microsatellite repeat in exon  called batrii whereas the mutations observed in mss colon cancers are usually missense mutations in the kinase domain of the receptor markowitz et al grady et al  the high frequency of tgfbr batrii mutations in msi colon cancers suggests that the mutation of tgfbr is biologically important to the formation of these cancers however it has been shown that many nonfunctional noncoding microsatellite repeats show increased mutation frequency in msi colon cancers and it is clear that many of these are mutated strictly as a result of mmr deficiency with no apparent biological contribution to the formation of the colon cancer zhang et al woerner et al hienonen et al the observation of msi in loci that are bystander loci as well as in potential tumor suppressor genes has helped fuel a debate regarding the nature of the contributory roles of genomic instability vs clonal selection to cancer formation cahill et al duesberg et al tomlinson and bodmer  in light of the substantial evidence that tgfb signaling inactivation is pathogenic in colon cancer we postulated that the assessment of tgfbr mutations in msi cancers might provide insight into the relative contributions of genomic instability vs clonal selection during the formation of msi colon cancer indeed the difficulty in discerning the relative roles of these two processes to cancer formation has led to two competing models for the role of genomic instability in tumorigenesis gagos and irmingerfinger one model argues that genomic instability is one of the earliest events in cancer formation and is required for the acquisition of a sufficient number of mutations in oncogenes and tumor suppressor genes to permit a normal cell to become a cancer cell loeb nowak et al the second model argues that genomic instability is a consequence of the process of tumorigenesis which is primarily driven by the clonal outgrowth of cells that progressively acquire biological abilities that allow them to transform sieber et al experimental data and the identification of cancer family syndromes that are secondary to germline mutations in dna repair genes has provided support for a primary pathogenic role of genomic instability in cancer formation however there is also compelling evidence that genomic instability is a less significant factor in the tumorigenesis process of many cancers and instead that the impact of mutations on the natural selection of clonal outgrowths is the major factor that drives the development of tumors moolgavkar and luebeck sieber et al  in the context of this controversy markowitz et al  identified mutations in a polyadenine tract in exon  of tgfbr termed batrii in  of colon cancers with the form of genomic instability termed msi msi results from the inactivation of the dna mmr system which corrects errors that arise in microsatellite repeats during dna replication the discovery of tgfbr mutations in the batrii tract provided compelling evidence that genomic instability could directly drive the pathogenesis of colon cancer formation through the induction of tgfb resistance in the evolving tumor cells on the basis of the high frequency of frame shift mutations in the batrii tract in msi colon cancers compared with mss colon cancers it would appear that genomic instability is the predominant mechanism inducing these mutations however other tumor types with msi display a much lower frequency of tumors with tgfbr batrii mutations demonstrating that msi alone is not sufficient to lead to the high incidence of tgfbr mutations observed in msi colorectal cancers myeroff et al furthermore there are microsatellite repeats such as in the bat and semg loci that are commonly mutated in msi colon cancers that provide no apparent selective advantage to the tumor cells raising the question of whether the high frequency of the tgfbr batrii mutations is in fact strictly a consequence of being in a hypermutable locus in the context of mmr inactivation zhang et al hienonen et al  in light of these unique features of the tgfbr batrii locus we have investigated the contribution of genomic instability and clonal selection to the acquisition of tgfbr batrii mutations in a defined cancer cell line system to investigate the role of genomic instability and natural selection in the acquisition of tgfbr mutations in msi colon cancer we reconstituted tgfbr into the msi colon cancer cell line hct and assessed the status of the batrii tract in the reconstituted tgfbr and the responsiveness of the cell line to tgfb mediated growth inhibition we used four different tgfbr transgenes  wildtype tgfbr  kinase deleted tgfbr dnr  kinase inactive tgfbr tgfbr dn and  tgfbrg which has a modified batrii tract that is a  basepair polyadenine tract rather than a  basepair polyadenine tract and which is less susceptible to dna replication errors in an attempt to isolate the contribution of genomic instability and natural selection to the mutational inactivation of tgfbr we have observed that msi colon cancer cell lines reconstituted with tgfbr rapidly become resistant to tgfb mediated growth inhibition and acquire mutations in the batrii tract of the transgenic tgfbr furthermore we provide evidence that both genomic instability and the growth advantage of tgfb resistance contribute to the inactivation of tgfbr in these cells materials and methods  cell lines and culture condition  the human colon carcinoma cell line hct was a generous gift from michael brattain roswell park medical institute buffalo ny and was cultured at c and  co in dmem gibcoinvitrogen carlsbad ca supplemented with  fetal bovine serum hyclone logan ut the cell lines rko vaco vaco vaco and lovo were provided by jkv willson ut southwestern medical school dallas tx the growth conditions for these cell lines has been previously described markowitz et al grady et al retroviralmediated gene reconstitution  the wildtype tgfbr tgfbr dn and tgfbr  transgenes used for these studies were derived from the prccmvr plasmid which was a gift from michael brattain wang et alb the kinase null tgfbr dnr construct was kindly provided by hal moses vanderbilt university nashville tn the constructs cloned into the plxin vector all have an ha tag inserted in the  aspect of the transgene inserts containing either wild type tgfbr tgfbr  and or a kinase deficient tgfbr tgfbr dn were cloned into the plxin retroviral expression vector clonetech mountain view ca retrovirus was then produced using the phoenix packaging cell line following standard techniques subconfluent cultures of hct cell lines were infected with viral supernatant for  hr in the presence of polybrene  gml g  gml was used for selection  hr after infection and resistant colonies were pooled after  days several polyclonal populations from independent rounds of infections were generated and used in the experiments described below colony formation assay  hct cells were plated at clonogenic density  cellswell in well plates and treated with tgfb  ngml rd minneapolis mn  hr after plating the cells lines were grown until discrete microscopic colonies appeared usually  days and then the number of colonies in each well was manually counted means and standard errors of the means were calculated from experiments performed in triplicate wells and repeated at least in three to four independent experiments the studies using the neutralizing antibody g concentration  gml were conducted as described above with addition of the antibody approximately  hr after plating the cells the antibody was kept in the media for the entire duration of the experiment the control wells were treated with vehicle only tgfb signaling analysis  tgfb mediated signaling was measured using the ptplux luciferase reporter a generous gift of j massague memorial sloankettering cancer center new york ny and prlcmv luciferase reporter promega madisonwi briefly    cells were plated in each well of a well plate and transfected the following day using  g of ptplux and  g of pcmvrl per well in the presence of  g of fugene  roche molecular biochemicals mannheim germany according to the manufacturers protocol tgfb  ngml was added  min after the transfection the luciferase activity in the cell lysates was measured after  hr using the dual luciferase reporter assay system promega madison wi according to the manufacturers protocol in a veritas luminometer turner systems sunnyvale ca dna extraction mutational analysis and pcr  dna was extracted from the cells as previously described grady et al the dna from the cell lines was amplified using the primers and reaction conditions listed below of note the primers used for the sequencing studies were designed to recognize unique sequence present in the transgene that is not in the endogenous tgfbr this was accomplished by using vector sequence in part of the primer sequence the pcr amplicons were gel extracted with the qiagen gel purification kit following the manufacturers protocol and then cloned into a ta cloning vector pgemt easy vector system promega madison wi sequencing was performed using m primers and was performed in the forward and reverse direction to confirm the mutations were not secondary to a sequencing error the sequencing products were analyzed using a  sequencer abi foster city ca the pcr products were generated using the following primer sets primer set   tgfbr amplicon forward primer cga ccccgcctcgatcct and reverse primer gccgtcaggaactggagtatgttc was used to amplify tgfbr and a  tgfbr amplicon primer set  forward primer tgccaacaacatcaaccacaa and reverse primer gcttcggccagtaacgttwas used to amplify  tgfbr the reaction mix consisted of pcr buffer roche  mm mgcl applied biosystems  pm dntps applied biosystems  nm of each primer and  unit taq polymerase roche the thermocycler reaction conditions were c     c   c primer set  or c primer set    min c   min c   rna extraction rtpcr and quantitative rtpcr  rna was extracted using the rneasy kit qiagen valencia ca following the manufacturers protocol the extracted rna was resuspended in dnase rnase free water gibco and subjected to dnase treatment rqdnase promega madison wi followed by another round of chloroform extraction and ethanolbased precipitation reverse transcription was performed using superscript ii gibcobrl with oligodt priming following the manufacturers instructions the sequence of the primers used in the rtpcr for tgfbr were tcaagcttccacagctg tg and ccttcatgacacacttggg and for gapdh were ctggcatggccttc cgtg and gaaatgagcttgacaaag quantitative rt pcr for the tgfbr transgene was performed using primers specific for the hatagged tgfbr transgene primer sequences ctgtggccgctgcac and acatcatacggtgggatcgtg sybr green pcr master mix abi was used and thermocycler conditions were c   c   c    cycles and c   gapdh expression was used to normalize for cdna loading and was assessed as previously published forrester et al quantitative rtpcr was performed using an abi  western blot  western blotting was performed using antiha polyclonal rabbit antisera y antipcdknb sc antipcdkna sc santa cruz biotechnology and mouse antiactin antibody a sigma the protein lysates from cell lines were prepared using ice cold np lysis buffer with protease and phosphatase inhibitors protein concentration was determined using the bca commercial protein assay kit following the manufacturers recommendations pierce the samples were then incubated at c   in laemli loading buffer and  g protein per sample was subjected to sdspage through a  gradient gel the samples were transferred to  m pvdf membrane using a criterion system biorad the membrane was incubated with  nonfat dry milk dissolved in tbs tween for  hr at room temperature incubated overnight at c using the primary antibody  dilution for y and sc  for sc and  for a followed by washing three times  min each using tbstween and a  hr incubation at room temperature with a hrpconjugated secondary antibody sc and sc santa cruz the ecl detection system amersham or supersignal elisa pico chemiluminescent substrate pierce was then used following the manufacturers protocol to assess the protein expression statistical analysis  fishers exact test was used to assess the differences in proportions of mutant tgfbr batrii alleles between cell lines and passage numbers results  resistance to tgfb growth inhibition occurs rapidly in msi colon cancer cell lines reconstituted with tgfbr  to assess the effect of restoration of the tgfb signaling pathway on colon cancer cell lines with mutant tgfbr we reconstituted tgfbr in a series of msi and mss colon cancer cell lines we reconstituted tgfbr in the msi cell lines hct rko vaco and lovo which represent the spectrum of msi cell lines with regards to the underlying mechanism for mmr inactivation eg mlh mutation hct and vaco mlh methylation rko and msh mutation lovo veigl et al duval et al we initially observed restoration of tgfb mediated growth inhibition and tgfb mediated tplux luciferase reporter activity however in the msi colon cancer cell lines we consistently observed the acquisition of resistance to tgfb growth inhibition between passage  and passage  after transduction with tgfbr suggesting there was selective pressure against maintaining the function of the tgfbr transgene in the msi colon cancer cell lines fig a and table  assessment of tgfb mediated transcription using a more sensitive measure of tgfb responsiveness the tplux luciferase reporter demonstrated similar reductions in tgfb responsiveness in these cell lines that were not as dramatic as the effects on tgfb mediated growth inhibition fig b to determine the effect of autocrine tgfb on the hct cell lines and the acquisition of tgfb resistance we plated the hcttgfrb hcttgfrb dn and hcttgfb  cell lines at clonogenic densities and assessed the formation of colonies while being treated with a tgfb neutralizing antibody wang et al wang et al the cell lines were grown with media supplemented with a tgfb neutralizing antibody g  gml a kind gift from dr carlos arteaga vanderbilt university to inhibit autocrine tgfb the neutralizing antibody was added after the cells were plated at clonogenic density and was kept in the media for the entire time that the cells were grown we observed significantly more colonies in the hcttgfbr cells at early passage p when treated with the neutralizing antibody colony number    vs    p   but did not observe an effect at later passages passage  and passage  table  thus responsiveness to autocrine tgfb signaling is present at early passage in the wildtype tgfbr transfected cells but not in the later passages presumably because of more complete loss of tgfbr expression with serial passage of the cells no effect was observed in the cell lines reconstituted with tgfbr dn or tgfbr  the lack of effect in the hcttgfbr  cell line may reflect higher expression levels of the tgfbr  construct compared with the wildtype tgfbr which resulted in failure of the g antibody to neutralize enough tgfb to inhibit activation of the transgenic tgfbr  figure   figure   open in figure viewer a tgfb mediated growth inhibition in msi colorectal cancer cell lines hct rko and vaco after reconstitution with wildtype tgfbr growth inhibition was measured by the effect of tgfb on a twodimensional colony formation assay the results are displayed as the percent growth inhibition caused by the addition of tgfb to the tissue culture media at the designated passage numbers b tgfb mediated smad signaling as measured by the tplux luciferase reporter assay in hct and rko after reconstitution with tgfbr the fold induction caused by the addition of tgfb to the cells at each passage number is shown table  alterations in tgfbr and tgfb responsiveness in hct cell lines after tgfbr transfection  hct  tgfbrhct  tgfbr   hct  dnr or tgfbr dn early passagealate passageaearly passagelate passageearly passagelate passage aearly passage passage  after transfection late passage passage  for hct  tgfbr and hct  dnr and passage  for hct  tgfbr    tgfb responsivenessresponsiveresistantresponsiveresistantresistantresistant tgfbr expression batrii mutation frequency  table  colony formation with treatment with tgfb neutralizing antibody g cell lineaverage colony numberp value no gg aearly passage passage  after transfection late passage passage  for hct  tgfbr and hct  tgfbr dn and passage  for hct  tgfbr    hct  tgfbr early passagea     hct  tgfbr late passagea     hct  tgfbr    early passage     hct  tgfbr    late passage     hct  tgfbr dn early passage     hct  tgfbr dn late passage     the induction of cdk inhibitors that have been implicated in tgfb mediated growth inhibition is presumably one of the antitumor mechanisms through which tgfbr exerts its effects alexandrow and moses cells with intact tgfbr would be predicted to show induction of these cdk inhibitors consequently we assessed the expression of cdkna and cdknb in early and late passage cell lines a modest reduction in cdknb and cdkna protein expression is found in the late passage line transfected with tgfbr but not tgfbr  demonstrating that the late passage hct reconstituted with tgfbr shows evidence of loss of tgfb mediated regulation of cdknb and cdkna as well as loss of tgfb mediated growth inhibition the lack of difference between early and late passage hct  tgfbr  may reflect that these cells retain a low level of tgfb responsiveness that can be detected by western blotting but that cannot be detected by the colony formation assay or that the growth inhibitory effect in these cells is mediated through mechanisms that are independent of cdkna and cdknb interestingly cdkna expression is increased and cdknb expression is slightly decreased in the late passage hct cell line reconstituted with tgfbr dn the reasons for these events are unclear but possible explanations include indirect effects related to the dominant negative function of the mutant tgfbr dn protein or to indirect effects from other regulators of cdkna and cdknb fig   figure   figure   open in figure viewer expression of cdknb and cdkna assessed by immunoblotting in hct cell lines transfected with tgfbr tgfbr  or an inactive mutant of tgfbr tgfbr dn a modest reduction in cdknb expression is apparent in the late passage cell line transfected with the tgfbr transgene but cdknb expression is not substantially different between the early and late passage lines transfected with the tgfbr  or tgfbr dn constructs the expression of cdkna is modestly reduced in the late passage hcttgfbr cell line but not in the hct tgfbr  cell line expression of cdkna is increased in the late passage hct cell line reconstituted with tgfbr dn densitometry of the bands is shown adjacent to the image of the immunoblot this loss of tgb responsiveness was accompanied by a fold decrease in mrna expression of the tgfbr transgene which may reflect effects on transcription of the transgenes or degradation of the transgene mrna fig a assessment of the expression of the tgfbr transgene with flow cytometry also demonstrated a substantial decrease in expression of the tgfbr and tgfbr  transgenes in the late passage hct lines that can be appreciated by a reduction in the percentage of cells showing high expression levels of the transgenic tgfbr fig b of interest and in contrast to the msi colon cancer cell lines two mss colon cancer cell lines that carry tgfbr mutations vaco and vaco that were reconstituted with tgfbr have shown no loss of tgfb responsiveness after  passages in culture data not shown grady et al  figure   figure   open in figure viewer a quantitative rtpcr of mrna expression of the tgfbr transgene in the hct cell line at early passage passage  p compared with late passage passage  p the studies were performed in triplicate and demonstrate a substantial decrease in tgfbr transgene expression specific assessment of the tgfbr transgene was conducted through the use of pcr primers that are specific to the sequence encoding the ha tag in the transgene b expression of the hatagged tgfbr transgenes in the hct cell lines at early and late passage assessed by flow cytometry flow cytometry of the hatagged hct cell lines reveals no significant change in expression between early and late passage in an hct line transfected with an inactive mutant of tgfbr tgfbr dn and a decrease in expression in the late passage hct cell lines transfected with either tgfbr or tgfbr  early passage is passage  for all the cell lines and late passage is passage  for the hct  tgfbr cell line and passage  for the hct  tgfbr dn and hct  tgfbr  cell lines the percentage of cells expressing the hatagged tgfbr at levels clearly above the nontransfected control are indicated in each panel tgfb resistance is the consequence of mutations in the tgfbr batrii tract of the reconstituted tgfbr transgene  in light of the loss of tgfb responsiveness in the msi colon cancer cell lines we assessed the mutation status of the tgfbr transgene in the reconstituted cell lines we used a retroviral vector to reconstitute tgfbr in order to reconstitute each transduced cell with approximately one transgene our assay was developed to only detect the tgfbr transgene thus the endogenous tgfbr which is homozygous mutant in the batrii tract does not confound our results this assay design allows an assessment of the mutation status of the transgene allele populations in each of the reconstituted cell lines but does not allow us to determine the allele status on a cellbycell basis however because we used an moi of  we believe that the vast majority of the transduced cells carried only one integrantcell we observed that  n   clones of the reconstituted hct cell line had acquired tgfbr batrii tract mutations in the tgfbr transgene by passage  after transfection and that this percentage increased to  n   by passage  p   fishers exact test table  to determine whether the tgfbr batrii mutations were a consequence of the msi background of the cell line vs selective pressure against restoration of tgfb signaling we reconstituted the hct cell line with a modified version of tgfbr that lacks the intracellular kinase domain hctdnr we observed  n   clones of the hctdnr had mutant tgfbr at passage  and that this percentage increased to  n   clones tgfbr mutants at passage  after transduction with the dnr transgene p   fishers exact test comparison of the proportion of mutant tgfbr batrii alleles between the hcttgfbr vs hctdnr at early and late passages revealed no statistically significant differences between the groups p   and p   fishers exact test these results suggest that the batrii tract is vulnerable to mutation even in a setting in which no biological consequence would be presumed to result from the batrii tract mutation we next assessed the effects of clonal selection on tgfbr inactivation vs mutational vulnerability of the  basepair polyadenine tract itself in the setting of mmr deficiency on the acquisition of mutations in the batrii tract we modified the tgfbr transgene so that the batrii tract sequence was agaaaaagaa this modified tgfbr transgene termed tgfbr  does not change the amino acid coding sequence of tgfbr analysis of hct reconstituted with tgfbr  revealed no mutations in the batrii tract at passages  and  after transfection  clones analyzed at the stated passage numbers the difference between the proportion of mutant tgfbr batrii alleles was statistically significant for the late passage hcttgfbr vs hcttgfbr  lines p   fishers exact test but not for the hcttgfbr  vs hctdnr p   fishers exact test tgfb resistance occurs regardless of absence of hypermutable  basepair polyadenine batrii tract  to further assess the role of msi vs release from tgfb mediated growth inhibition on the acquisition of and selection for hct cells that had inactivated tgfbr via batrii mutations we assessed the hct cell lines reconstituted with the tgfbr  construct which carries the modified tgfbr batrii tract agaaaaagaa for tgfb responsiveness at early and late passage we observed that the hct cell line reconstituted with tgfbr  retained sensitivity to tgfb mediated growth inhibition consistently to passage  in comparison with hct reconstituted with wildtype tgfbr in which resistance to tgfb growth inhibition occurred at passage  on average these experiments were performed with five independently derived pools of clones with similar results for each pool of clones notably despite the delay in the development of tgfb resistance the hct tgfbr  cells always eventually became resistant to tgfb mediated growth inhibition by passage  similar results were observed in the msi colon cancer cell lines rko and vaco fig  to assess for the mechanism mediating the tgfb resistance in the hcttgfbr  cell line tgfbr transgene expression was measured tgfbr expression is reduced in late passage hcttgfbr  as it is in hcttgfbr suggesting that reduction in tgfbr expression is the mechanism for the reduction in tgfb responsiveness in the hct cells transfected with the tgfbr  transgene fig a to determine if decreased tgfbr expression is the cause of tgfb resistance in the hcttgfbr  cell line tgfbr was reconstituted in the late passage cell lines transduction of these late passage cell lines with wildtype tgfbr restored tgfb mediated transcription demonstrating that tgfbr inactivation is the event leading to tgfb resistance in the hct tgfbr  cells and that there is not an inactivating event in another element of the tgfb signaling pathway causing the tgfb resistance the magnitude of the effect of tgfbr reconstitution in the hct tgfbr  cells is similar to that seen in the hcttgfbr cells and hcttgfbr dn cells  figure   figure   open in figure viewer tgfb mediated growth inhibition in msi colorectal cancer cell lines hct rko and vaco after reconstitution with the mutation resistant tgfbr  transgene growth inhibition was measured by the effect of tgfb on a twodimensional colony formation assay the results are displayed as the percent growth inhibition caused by the addition of tgfb to the tissue culture media at the designated passage numbers figure   figure   open in figure viewer a quantitative rtpcr of mrna expression of the tgfbr transgene in the hct cell line at early passage passage  p compared to late passage passage  p after reconstitution with the tgfbr  trangene the studies were performed in triplicate and demonstrate a substantial decrease in tgfbr transgene expression in the late passage cell lines specific assessment of the tgfbr transgene was conducted through the use of pcr primers that hybridize to the sequence encoding the ha tag in the transgene brestoration of tgfb mediated smad signaling by reconstitution of tgfbr in late passage hcttgfbr and hcttgfbr  the reconstituted hct cell lines were assessed for tgfb responsiveness using the tplux luciferase reporter the hct cell lines transiently reconstituted with tgfbr all demonstrate substantial increases in tgfb mediated tplux luciferase activity right side of graph no effect is seen with reconstitution with tgfbr dn left side discussion  the discovery of msi and chromosome instability in colorectal cancer provided evidence that genomic instability occurs in most colon cancers however it was the discovery of germline mutations in the mmr genes as the cause of the colorectal cancer family syndrome hereditary nonpolyposis colorectal cancer syndrome that suggested that the genomic instability could play a causal role in the formation of these cancers bronner et al liu et al furthermore the identification that tgfbr is a common mutation target in the setting of msi colorectal cancer demonstrates that genomic instability can result in the mutational inactivation of genes that are biologically important in the pathogenesis of cancer markowitz et al tgfbr batrii mutations can be found in approximately  of msi colorectal cancers and have been shown to impair tgfb mediated growth inhibition parsons et al grady et al however it has also been clearly demonstrated that microsatellite repeats can undergo mutation in the setting of msi regardless of any apparent biological advantage to the mutations zhang et al hienonen et al this observation has made it unclear whether tgfbr batrii mutations or mutations in other coding region microsatellite repeats occur simply because they are particularly susceptible to mutation in the setting of mmr deficiency or because they provide a growth advantage with subsequent clonal selection zhang et al hienonen et al thus we postulated that assessment of tgfbr inactivation would permit an assessment of the roles of genomic instability and clonal selection in colorectal cancer formation  our results provide additional insight into the ongoing controversy related to the relative significance of genomic instability vs clonal selection and expansion in the pathogenesis of cancer rajagopalan et al sieber et al in elegant studies of barretts esophagus which is a preneoplastic tissue alteration of the esophagus maley et al  have demonstrated that both clonal expansion and genomic instability contribute to the progression of barretts epithelium to esophageal adenocarcinoma maley et al we have now conducted a series of studies in colorectal cancer cell lines that have been reconstituted with tgfbr to define the roles of genomic instability and clonal evolution in the acquisition of cancer promoting mutations in colon cancer we observed that msi colon cancer cell lines reconstituted with tgfbr rapidly acquire resistance to tgfb mediated growth inhibition which demonstrates the substantial biological negative selection pressure against tgfb signaling in this class of colon cancer wang et al b have also demonstrated that there is selective pressure against the expression of tgfbr in hct these investigators were able to generate clones of hct transfected with tgfbr but found that the receptors were expressed at low levels and were saturated by autocrine tgfb indeed the acquisition of tgfb resistance in our studies is particularly notable in light of the fact that the transgene has an ires driven neomycin resistance gene which should have precluded the ability of the cells to acquire resistance to tgfb signaling by repressing the transcription of the tgfbr transgene consistent with the design of the tgfbr transgene the tgfb resistance observed in the msi colon cancer cell line was accompanied by the presence of inactivating mutations in the batrii polyadenine tract of the transgenic tgfbr further studies with an inactivated tgfbr transgene and with a mutation resistant version of tgfb demonstrated that both genomic instability and clonal selection pressure for the loss of tgfb signaling drive the loss of tgfbr that results from mutations in the tgfbr batrii tract  thus reconstitution of tgfbr in msi colon cancer cell lines has provided an opportunity to study the contribution of clonal selection and genomic instability in the inactivation of this particular gene because of the potent selection pressure against tgfb mediated growth inhibition in msi colorectal cancer cell lines for undetermined reasons these cell lines more rapidly inactivate the reconstituted tgfb signaling pathway compared with mss cell lines the tgfb signaling pathway appears to be a target for mutational inactivation in both mss and msi tumors indeed studies of primary tumors demonstrate the presence of tgfbr smad and smad mutations and deletions in mss colorectal cancers providing evidence that inactivation of the tgfb signaling pathway favors tumor formation in mss tumors as well as in msi tumors maciassilva et al takagi et al grady et al a possible explanation for the difference we have observed between mss and msi cell lines is that the selection pressure for tgfbr inactivation may involve mechanisms that are germane to in vitro growth in the msi cancer cell lines but that are less important in the mss cancer cell lines an alternative explanation is that the increased hypermutability of msi cell lines results in a more rapid loss of tgfb responsiveness compared with the mss cell lines and that longer time in culture would eventually reveal that some clones of mss cell lines also will become tgfb resistant by mutating the tgfbr transgene  the potent selection pressure against tgfb mediated growth inhibition permitted the measurement of the rate of loss of tgfb responsiveness in these cell lines in relatively short time frames  passages of the cell lines our studies with the hct vaco lovo and rko cell lines demonstrate that inactivation of tgfbr is the preferential mechanism through which the tgfb signaling pathway is inhibited in msi colorectal cancer indeed the ability of tgfbr reconstitution in these cells to restore tgfb mediated smad signaling provides clear evidence there were no postreceptor alterations that were impairing the tgfb pathway in these cells the studies of the msi colon cancer cell lines reconstituted with the tgfbr  transgene provided evidence that clonal selection pressure plays a significant role in the inactivation of tgfbr in msi colorectal cancer and that the inactivation of the receptor is not strictly a consequence of the susceptibility of the tgfbr batrii tract to mutate in the setting of msi  furthermore we observed decreased mrna expression of the tgfbr transgenes in the hct lines transfected with tgfbr and tgfbr  previous studies have suggested the decreased mrna levels observed in colorectal cancers with tgfbr batrii mutations are secondary to nonsense mediated decay markowitz et al with regards to the tgfbr  construct our experimental design does not permit us to determine whether the repression of tgfbr in the cell lines reconstituted with the mutation resistant tgfbr construct is reflective of a process that is occurring in primary tumors because of the use of a retrovirus expression vector for reconstitution of the tgfbr transgene as we did not reconstitute tgfbr through the use of homologous recombination with an expression vector that was driven off of the endogenous promoter we cannot address whether the decreased mrna levels of tgfbr  reflect a process that may affect the endogenous tgfbr in primary colorectal cancer nonetheless our results do clearly show that there is biological pressure to inactivate tgfb responsiveness in these cells which we demonstrated was through repressing the expression of the tgfbr transgene restoration of tgfb responsiveness with reconstitution of tgfbr in the tgfb resistant late passage lines demonstrates that the loss of tgfb sensitivity is through inactivation of tgfbr and not through a different mechanism such as mutational inactivation of smad etc  with regards to genomic instability the evaluation of the tgfbr batrii mutation frequency in early and late passage hct revealed that the batrii tract is susceptible to mutation even in the setting of an inactive receptor hctdnr the frequency of mutations in the dnr transgene was approximately half that seen in wildtype tgfbr suggesting that the batrii locus is susceptible to mutation in part because it is particularly prone to dna replication errors these errors appear to accumulate with serial passage number although they are more common in the wildtype tgfbr transgene which is consistent with clonal selection pressure affecting the mutation frequency in fact it appears that approximately half of the mutations can be accounted for by clonal selection pressure  in summary we have used a defined cell line system to investigate the cooperation between clonal selection pressure and genomic instability in mediating mutational inactivation of tgfbr in msi colorectal cancer we have demonstrated that tgfb signaling restoration is rapidly selected against in a panel of msi colon cancer cell lines and that this inactivation is a consequence of both loss of mmr proficiency and selection against the growth inhibitory effects of tgfb signaling these data are consistent with that of maley et al  who demonstrated that clonal expansion and genomic instability cooperate in the progression of barretts esophagus to esophageal adenocarcinoma hornick et al it is of note that our studies do not address the role of genomic instability in the initiation of cancer but they do demonstrate the plausibility that genomic instability arising in early neoplastic lesions could contribute to the pathogenesis of colorectal cancer through the induction of mutations in susceptible genes that then promote the clonal evolution of cells that have acquired the mutations  we previously demonstrated that mutational inactivation of transforming growth factor b type ii receptors riis is very common among the  of human colon cancers with microsatellite instability these mutations principally cluster in the batrii polyadenine sequence repeat among microsatellite stable mss colon cancers we now find that nonbatrii point mutations inactivate rii in another  of cases thus doubling the known number of colon cancers in which rii mutations are pathogenetic functional analysis confirms that these mutations inactivate rii signaling moreover another  of mss colon cancers demonstrate a transforming growth factor b signaling blockade distal to rii the transforming growth factor b pathway and rii in particular are major targets for inactivation in mss colon cancers as well as in colon cancers with microsatellite instability introduction tgfb inhibits the growth of epithelial cells in general   and can inhibit growth andor induce apoptosis in nontransformed colon epithelial cells   tgfb signaling is transduced by a heteromeric receptor complex composed of type i and type ii components both of which are serinethreoninedirected kinases  a role for rii as a human colon cancer tumor suppressor gene was demonstrated by the discovery of inactivating rii mutations in colorectal cancers that show msi due to defects in dna mismatch repair  these cancers with msi account for  of all colon cancers    furthermore the restoration of wildtype rii in cell lines from colon cancers with msi abolishes their tumorigenicity in athymic mice  rii mutations in colon cancers with msi usually result in frameshifts clustered in a naturally occurring bp microsatellitelike polyadenine tract in the  coding half of the gene batrii refs  and  in a few colon cancers with msi inactivation of one of the rii alleles occurs via nonbatrii mutations that alter the rii kinase domain    demonstrating an underlying selective advantage for rii inactivation irrespective of whether this occurs via batrii or nonbatrii mutational events we hypothesized that the rii mutation should function similarly as a tumor suppressor gene in mss colon cancers accordingly we examined the rii sequence in  mss colorectal cancer cell lines these vaco cell lines have been matched to antecedent tumor and normal tissues and have been extensively characterized as a model for human colon cancer   three of the  cell lines were shown to express mutantonly rii transcripts functional analysis showed that the rii mutations inactivated rii signaling in each case moreover an additional  of these cell lines demonstrated a loss of tgfb responsiveness apparently through postrii signaling defects therefore tgfb signaling in general and rii in particular are targets for inactivation in mss colon cancers as well as in colon cancers with msi materials and methods cell lines and primary tumors the establishment of the panel of the vaco colon cancer cell lines has been described previously   the vaco cell line was established from a stage iv cecal colon adenocarcinoma from a yearold male vaco was established from a liver metastasis from a yearold man vaco was derived from a stage iv colon adenocarcinoma metastasis in the right lobe of the liver of a yearold woman these cell lines were maintained as described previously  genomic dna from the original paraffinembedded formalinfixed tumor blocks was extracted as described previously  dna from matched normal tissue for each colon cancer was obtained when available tgfb growth inhibition assay the colon cancer cell lines were plated at clonogenic density  cellswell in well plates for adherent cell lines and  cellswell in well plates for collagendependent adherent cell lines and treated with tgfb  ngml  h after plating the cell lines were grown until discrete microscopic colonies appeared usually for  days and then the number of colonies in each well was manually counted mean and ses of the means were calculated from experiments performed in triplicate wells and repeated in at least nine independent determinations rtpcr amplification and sequencing of rii rna from the cell lines was prepared by extraction with guanidine isothiocyanate  rtpcr and cloning of the reaction products and manual sequencing of the cloned dna were performed as described previously  or the reaction products were sequenced by automated sequencing using a abi  dna sequencer for amplification of rii from genomic dna sense primer  ggtgtgtgagacgttgactgagtg was paired with antisense primer   aatcttctcctccgagcagctc for  cycles of c for  s c for  min and c for  min all rii mutations were confirmed to be present in at least two independently amplified pcr reactions compared with the reference sequence genbank accession number m tgfb signaling analysis the cell lines were transiently transfected following the manufacturers protocols using lipofectin life technologies inc gaithersburg md superfect qiagen or fugene boehringer mannheim with a tgfbresponsive firefly luciferase reporter plasmid ptplux ref  and an internal control reporter plasmid containing cdna encoding r reniformis luciferase under a thymidine kinase promoter prltk or a received  accepted  the costs of publication of this article were defrayed in part by the payment of page charges this article must therefore be hereby marked advertisement in accordance with  usc section  solely to indicate this fact  supported by nih grants ro ca and ro ca  to s m by an advanced research training award from the american digestive health foundation and nih grant ko ca to w m g and by nih grants p ca and t ca  to case western reserve university s m is an investigator in the howard hughes medical institute  these authors contributed equally to this study  to whom requests for reprints should be addressed at ucrc  room  ireland cancer center  cedar road cleveland oh   the abbreviations used are tgfb transforming growth factor b rii tgfb receptor type ii msi microsatellite instability mss microsatellite stable rtpcr reverse transcriptionpcr  downloaded from cancerresaacrjournalsorg on may     american association for cancer research  cytomegalovirus promoter prlcmv promega madison wi the ptplux plasmid was kindly provided by dr joan massague memorial sloankettering cancer center and howard hughes medical center new york ny after transfection the cell lines were exposed to tgfb  ngml for  h and then assessed for reporter activity the luciferase activity was measured using the dualluciferase reporter assay system following the protocol included with this kit promega the samples were assayed on a turner dual injector luminometer promega or a mlx multiplate luminometer dynex technologies retroviral transduction the cell lines were infected with the mfgrii or mfgcat retroviruses  cells were plated in well plates at a density of  or  cellswell on the following day they were incubated in mfgrii or mfgcat viral supernatant produced by a virus producer cell line and polybrene  mgml for  h the cells then were rinsed three times in pbs g  mgml was added  days after the viral infection tgfb  ngml was added to designated subsets of the infected cell lines  h after infection to assess for reconstitution of tgfbinduced growth inhibition the growth inhibition assays were performed as described above all of these experiments were performed in triplicate and repeated at least three times results and discussion mss colon cancers are commonly tgfb resistant we initially determined whether tgfb growthinhibitory responses were intact in  colon cancer cell lines that had been previously determined to be mss  tgfb growth inhibition was assayed by determining the ability of tgfb to inhibit the colony formation of cells plated at clonogenic density cell lines in which tgfb  ngml reduced colony formation at  days after plating by  were considered to be responsive to tgfbmediated growth inhibition five cell lines  were determined to demonstrate sensitivity to tgfbmediated growth inhibition with tgfbmediated suppression of colony formation ranging from  however   of  of the mss cell lines were found to be resistant to the growthinhibitory effects of tgfb rii mutations detected in mss colon cancers ninety percent of colon carcinoma cell lines with msi demonstrate both tgfb resistance and batrii mutations that inactivate the rii receptor   accordingly we initially examined the mss colon cancers for batrii mutations using our previously described assay   consistent with our prior results no bat rii mutations were detected in any of these cell lines  therefore we determined the complete rii cdna sequences in rtpcr cdna pools amplified from each of the  mss cell lines that demonstrated tgfb resistance in three cell lines  only mutant rii sequences were obtained and no wildtype rii was expressed in the remaining cell lines rii was expressed and was wildtype in sequence rii mutations were previously demonstrated to be ubiquitous among the approximately  of colon cancers that show msi    these new findings therefore double the number of colon cancers in which rii mutations are pathogenetic to approximately  of all colon adenocarcinomas and show that such rii mutant cases occur in both the msi and mss subtypes the mutations detected in mss cell lines vaco vaco and vaco are located within conserved regions of the kinase domain of the rii gene vaco vaco and vaco cells or in the  extracytoplasmic portion of the receptor vaco cells in vaco cells a missense mutation gacaac changed an aspartic acid to an asparagine at codon  fig  ref  altering the charge of a residue within subdomain xi of the serinethreonine kinase domain of the receptor in vaco cells a missense mutation cgtcat changed an arginine to a histidine at codon  fig  ref  this arginine which is also within kinase subdomain xi is strictly conserved among all serinethreonine protein kinases  in vaco cells two mutations were observed in the pooled cdna products both were apparently heterozygous fig  sequencing individual rtpcr cdna clones revealed that this was due to separate mutations present on each of the two expressed vaco alleles one vaco allele carried a missense mutation tatgat at codon  that changed a tyrosine to an aspartic acid  and altered the charge of an amino acid in subdomain ix of the receptor kinase domain the second vaco allele carried a missense mutation aaaaca at codon  that changed a lysine to a threonine in the extracytoplasmic region of the receptor to confirm that these base changes did not merely arise during the establishment of the cell lines we analyzed genomic dna from the tumors from which vaco vaco and vaco were established in each case the rii mutations were demonstrated to be present in the antecedent tumors from which the cell lines were derived normal tissue was also available from individuals matched to vaco and vaco in both instances only wildtype rii sequences were demonstrated in the normal tissues confirming that in these tumors rii mutations arose somatically and were selected for during carcinogenesis kinase domain mutations in rii have previously been observed in occasional colon cancers with msi both by us and by other investigators   and have also been noted in two squamous cell carcinomas of the oropharynx  and in one tcell lymphoma  the selection of these vaco colon cancer mutations during tumorigenesis their location within rii and the nature of the amino acid changes produced suggested that these mutations likely inactivated the tgfb receptor and induced the tgfb resistance observed in the vaco cell lines of note rii mutations were not observed in an investigation of fig  point mutations of tgfb rii in colon cancer cell lines vaco vaco and vaco rii cdna was pcramplified in two overlapping pieces cloned into the pcrii vector invitrogen and then sequenced manually or by abi automated sequencing vaco has a homozygous missense mutation in exon  at bp  ga that changes codon  from arg to his vaco has a homozygous missense mutation at bp  ga that changes codon  from asp to asn vaco has two heterozygous missense mutations that are on opposite alleles one mutation is located at bp  and changes codon  from lys to thr and the other mutation is at bp  and changes codon  from tyr to asp the mutations in vaco at codon  vaco and vaco all affect the kinase domain of the receptor the mutation at codon  in vaco affects the extracytoplasmic portion of rii  tgfb receptor mutations and mss colon cancer downloaded from cancerresaacrjournalsorg on may     american association for cancer research  a different set of colon cancers studied by singlestrand conformational polymorphism this contrasting result is most likely a consequence of the lower sensitivity of singlestrand conformational polymorphism compared to sequencing  rii mutations inactivate tgfb receptor signaling to confirm that the rii mutations detected in the mss colon cancers inactivated the receptor we determined the ability of wildtype rii to restore tgfbmediated responses in these cell lines we initially assayed the ability of wildtype rii to restore tgfbmediated transcriptional responses as assayed by the tgfbresponsive firefly luciferase activity encoded by the reporter construct ptplux  ptplux was transiently transfected into these cell lines accompanied by either rii expression vector prccmvtgfbrii or control dna and ptpluxmediated luminescence was determined in the presence and absence of exogenous tgfb each determination was corrected for transfection efficiency by assaying for the luminescence from a cotransfected control construct prltk or prlcmv promega a plasmid that expresses r reniformis luciferase activity that is easily discriminated from firefly luciferase activity consistent with the findings that vaco vaco and vaco were resistant to tgfbmediated growth inhibition each of these cell lines demonstrated low basal activity of ptplux and no further response of the reporter to added tgfb fig  in vaco and vaco cells cotransfection of wildtype rii augmented the basal ptplux activity ptplux activity increased further after the addition of exogenous tgfb such that total the tplux output reached fold over baseline fig  the increase in ptplux activity due to the introduction of wildtype rii likely reflects the activation of the restored tgfb signaling pathway by the autocrine tgfb produced by these cell lines the responsiveness of ptplux to exogenous tgfb clearly establishes that introducing wildtype rii restores tgfbmediated signaling in these cell lines thus the rii mutations in vaco and vaco directly account for the tgfb resistance of these cell lines as discussed below we hypothesized that the vaco rii mutation also inactivated receptor signaling but that additional progression events in this cell line interfered with the ability to reconstitute tgfb signaling by a single gene alone tumor suppressor activity of wildtype rii in mss colon cancer to assess the potency of the tgfb tumor suppressor pathway inactivated in rii mutant mss colon cancers we determined the ability of wildtype rii to inhibit colony formation in rii mutant cancer cells colon cancer cells were plated at a concentration selected to achieve clonogenic density after g selection and transduced with mfgrii a replicationincompetent retrovirus encoding wildtype rii or an equal titer of a control mfgcat retrovirus and then colonies arising in the presence or absence of tgfb were counted and compared noninfected cells were removed from the assay by selection of the cells in g as expected tgfb had no colony suppression activity in any of the cell lines infected with the control mfgcat virus fig  in contrast  of colonies were suppressed in both vaco and vaco cells that were transduced with wildtype rii and treated with tgfb fig  thus rii is revealed as a potent suppressor gene in these cell lines and the rii mutations in these tumors are again confirmed as the cause of their resistance to tgfb growth inhibition similar to the inability of wildtype rii in vaco to restore tgfbmediated transcriptional responses we observed that wildtype rii also did not restore tgfbmediated growth inhibition in vaco rtpcr and western blot analysis confirmed that after mfgrii infection in vaco wildtype rii cdna was expressed and rii protein expression was increased to levels similar to those obtained in mfgriiinfected vaco and vaco parenthetically we noted that because gresistant vaco colony numbers were the same in mfgcat and mfgriitransduced vaco there was no apparent nonspecific toxicity of the mfgrii virus relative to the mfgcat control thus the partial reduction of vaco and vaco colony numbers by the mfgrii retrovirus alone is likely due to the autocrine tgfb produced by these cell lines mutation of both rii and smad in vaco because wildtype rii did not restore tgfbmediated signaling in the vaco cell line the functional properties of the vaco rii mutant were studied by  s markowitz and m g brattain unpublished data fig  restoration by rii of tgfbstimulated transcriptional responses relative luciferase activity from tgfbresponsive reporter plasmid tplux in cell lines vaco vaco and vaco after transient transfection with prccmv rii is shown the cells were grown for  days after transfection with or without tgfb  ngml vaco and vaco demonstrate both a basal and tgfbinducible increase in tplux activity after transfection with rii the basal induction in vaco and vaco is presumably secondary to autocrine tgfb produced by these cell lines vaco shows no increase in tplux activity after rii transfection with or without the addition of tgfb the luciferase activity was normalized to the activity of a cotransfected control vector prltk or prlcmv that contains the distinguishable r reniformis luciferase fig  suppression of colonyforming activity by wildtype rii the cell lines were plated at a concentration to yield clonogenic density after g selection infected with a rii retrovirus and then assessed for colony formation  days after being grown in the presence or absence of exogenous tgfb  ngml reconstitution of rii suppresses the number of colonies formed in vaco and vaco this suppression is significantly augmented by exogenous tgfb vaco shows no suppression of colony formation after rii reconstitution mfgcat a mfg retrovirus encoding cat and a neomycin resistance gene was used to control for nonspecific effects of the retrovirus  tgfb receptor mutations and mss colon cancer downloaded from cancerresaacrjournalsorg on may     american association for cancer research  cloning this mutation into a cdna expression vector and transiently transfecting the vaco rii into the riideficient cell line hct  as shown in fig a transient transfection of wildtype rii restored tgfb signaling in hct as assayed by the ptplux reporter in contrast the vaco rii was inactive in restoring rii function in hct hence the vaco rii mutation that was selected for during vaco tumorigenesis is sufficient to inactivate the tgfb receptor and to abolish tgfb signaling we initially considered the hypothesis that the vaco rii mutation might have dominant negative activity rendering the cell line resistant to the addition of a wildtype allele however cotransfecting the vacorii and wildtype rii expression vectors revealed at best a borderline inhibition of wildtype rii by the vaco mutant fig a accordingly we hypothesized that in vaco a separate event had further inactivated the tgfb signaling pathway the binding of tgfb to its receptor activates a heteromeric complex of smadsmadsmad transcription factors to translocate to the nucleus   previously we and others have reported that mutations of smad and smad are present at a low frequency in some human colon cancers     accordingly we examined the possibility of smad inactivation as a separate event in the vaco tgfb signaling pathway whereas neither smad nor rii transfected singly into vaco triggered the tplux reporter cotransfection of rii and smad triggered a fold ptplux response thus suggesting that the inactivation of rii and smad accounted for two separate defects in the vaco tgfb signaling pathway fig b examination of the vaco smad gene revealed that neither smad exon  nor exon  could be amplified from vaco genomic dna thus biallelic deletion of smad was indeed a second genetic event in the vaco cell line tgfb pathway due to the small amounts of residual normal tissue remaining in even the microdissected tumor antecedent to the vaco cell line we could not establish whether smad loss occurred in the predecessor vaco tumor or only after establishment of the vaco cell line nonetheless it is intriguing to speculate that the presence of mutations in both the rii and smad genes in the vaco  cell line although rare seems to suggest that rii and smad may have some functions that are distinct from one another in summary multiple lines of evidence now suggest that the tgfb pathway is a potent tumor suppressor of human colorectal carcinogenesis we have previously determined that among the  of human colon cancers of the msi subtype nearly all have inactivating rii frameshift mutations clustering at the batrii tract   data from the vaco colon cancer cell lines now suggest that among mss human colon cancers an additional  of tumors also bear inactivating rii mutations and that restoring wildtype rii to these tumors is potently growth suppressive hence rii mutations play a pathophysiological role in approximately  of human colon cancers and rii gene therapy may have a future role in the treatment of these tumors analysis of tgfb sensitivity in the vaco colon cancer cell line panel further suggests that an additional  of human colon cancers demonstrate functional inactivation of tgfbmediated growth inhibition furthermore these cancer lines have lost tgfbmediated transcriptional responses as well presumptively these additional cancers bear defects in the tgfb signaling pathway at points distal to rii we have previously shown that smad and smad mutations are present in only a small percentage of human colon cancers    however the tumorpromoting activity of such downstream inactivation of tgfb signaling is suggested by recent studies in murine models showing that heterozygous smad mutation promotes colon adenoma to carcinoma progression  and homozygous smad knockout leads directly to colon cancer  study of additional mechanisms leading to the inactivation of tgfb signaling in the remaining set of wildtype rii mss colon cancers is currently ongoing  adjuvant chemotherapy improves survival among patients with stage iii colon cancer but no reliable molecular predictors of outcome have been identified  methods  we evaluated loss of chromosomal material also called loss of heterozygosity or allelic loss from chromosomes q p and p cellular levels of p and pwafcip proteins and microsatellite instability as molecular markers we analyzed tumor tissue from  patients with stage iii and highrisk stage ii colon cancer who had been treated with various combinations of adjuvant fluorouracil leucovorin and levamisole to determine the ability of these markers to predict survival  results  loss of heterozygosity at q was present in  of  cancers  percent high levels of microsatellite instability were found in  of  tumors  percent and  of these  tumors  percent had a mutation of the gene for the type ii receptor for transforming growth factor  tgf among patients with microsatellitestable stage iii cancer fiveyear overall survival after fluorouracilbased chemotherapy was  percent in those whose cancer retained q alleles and  percent in those with loss of q alleles relative risk of death with loss at q   percent confidence interval  to  p the fiveyear survival rate among patients whose cancer had high levels of microsatellite instability was  percent in the presence of a mutated gene for the type ii receptor for tgf and  percent if the tumor did not have this mutation relative risk of death   percent confidence interval  to  p  conclusions  retention of q alleles in microsatellitestable cancers and mutation of the gene for the type ii receptor for tgf in cancers with high levels of microsatellite instability point to a favorable outcome after adjuvant chemotherapy with fluorouracilbased regimens for stage iii colon cancer  colorectal cancer is the second most common cause of death from cancer in the united states postoperative adjuvant chemotherapy improves the outcome in stage iii dukes stage c colon cancer and is now widely accepted as standard therapy many patients with stage ii dukes stage b disease are considered to be at high risk for recurrence and receive adjuvant therapy although its benefit in such cases is uncertain markers that reliably predict survival are needed  the sequence of genetic alterations leading to colorectal cancer usually begins with the inactivation of the pathway involving the adenomatous polyposis coli tumorsuppressor gene and catenin subsequent changes often include the loss of portions of chromosomes termed loss of heterozygosity or allelic loss or the loss of whole chromosomes in about  percent of cases of sporadic colorectal cancers there are insertions or deletions of nucleotides within repeated sequences of dna termed microsatellite instability due to defective repair of mismatched nucleotides tumors with high levels of microsatellite instability are characteristic of the hereditary nonpolyposis colorectal cancer syndrome but in most cases such tumors are sporadic neoplasms with high levels of microsatellite instability accumulate mutations in microsatellites within the coding region of certain genes but loss of chromosomes is rare  some of these genetic alterations are prognostic markers in colorectal cancer loss of heterozygosity at chromosome q indicates a poor prognosis other alterations that have been found to have prognostic value are allelic loss at chromosomes p p p p q or p changes in the levels of certain gene products including the dcc deleted in colorectal cancer protein p and pkip mutation of the ras gene and increased expression of genes involved in fluoropyrimidine metabolism in addition colorectal cancers with high levels of microsatellite instability metastasize less often and have a better prognosis than microsatellitestable cancers  molecular alterations also have the potential to predict survival after chemotherapy we examined a panel of molecular markers listed in the glossary in specimens of colon cancer from patients enrolled by the eastern cooperative oncology group in two national cancer institute gastrointestinal intergroup clinical trials of adjuvant chemotherapy with fluorouracilbased regimens  glossary of molecular markers  markerabnormality or abnormal genefunctions of wildtype gene productreported prognostic or predictive value in colorectal cancer loss of heterozygosity at chromosome qdccnetrin receptor caspase substrate in apoptosis cell adhesion molecule tumor suppressionadverse prognostic marker smad dpc madhnuclear transcription factor in tgf signaling regulation of angiogenesis activator of waf promoter downstream mediator of smad tumor suppressionadverse prognostic marker smad madh jvendodermal differentiation interacts with ski proteinnone loss of heterozygosity at chromosome pp tptranscription factor regulator of cellcycle progression after cellular stress of apoptosis of gene expression and of dna repair tumor suppressionadverse prognostic marker loss of heterozygosity at chromosome punknownunknownadverse prognostic marker high labeling index for p proteinp tpsame as for loss of heterozygosity at chromosome padverse prognostic marker adverse predictive marker increased labeling index for pwafcip proteinwaf cip sdicyclindependent kinase inhibitor controller of cellcycle progressionfavorable predictive marker microsatellite instabilityconsequence of abnormal genes in mismatchrepair familyrepair of nucleotide mismatchesfavorable prognostic marker favorable predictive marker mutation in gene for type ii receptor for tgftgf riireceptor for signaling in tgf pathway inhibitor of colonic epithelial proliferationnone mutation in bax genebaxproapoptosisadverse prognostic marker alternative terms are given in parentheses go to methods patients  specimens from  eligible patients enrolled in two randomized trials of adjuvant chemotherapy for colon carcinoma were studied these patients had stage iii cancer dukes stage c with lymphnode metastasis or highrisk stage ii cancer dukes stage b with colonic obstruction adherence to or invasion of adjacent organs or tumor perforation and with en bloc resection of all visible disease including regional peritoneal metastases in one trial eastern cooperative oncology group protocol e national cancer institute gastrointestinal intergroup int  three treatments  fluorouracil plus levamisole levamisole alone and surgery alone  were compared patients in this trial were enrolled from february  to october  and the median duration of followup in surviving patients was  years in the other trial protocol e int  four treatments  lowdose leucovorin plus fluorouracil highdose leucovorin plus fluorouracil levamisole plus fluorouracil and lowdose leucovorin plus fluorouracil plus levamisole  were compared patients were enrolled from august  to july  and the median duration of followup in surviving patients was  years  thus of the seven cohorts in these two trials five received fluorouracilbased chemotherapy we studied survival in relation to the presence or absence of molecular markers in available tumor specimens from  patients in the five cohorts that received fluorouracil there were no statistically significant differences in outcome among the patients in these five cohorts the study population was representative of all the patients in the two clinical trials the only statistically significant difference between patients included in this study and those not included was the frequency of regional metastases  percent vs  percent p table   table  table  principal characteristics of the patients enrolled in the two clinical trials according to whether the tumor was analyzed in the current study analysis of tumor specimens  formalinfixed paraffinembedded specimens were obtained through the eastern cooperative oncology group pathology coordinating office a data base of information on the patients was maintained at the eastern cooperative oncology group statistical center laboratory analysis of tumor specimens was performed without knowledge of the patients clinical data microdissection of tumor tissue and of nonneoplastic control tissue when available and preparation of dna were performed as previously described  microsatellite markers the microsatellite analysis depended on the type of tissue available fig  in the case of  tumor specimens for which nonneoplastic control tissue was also available allelic losses from chromosomes q p and p were evaluated with polymorphic markers and microsatellite instability was determined with eight dinucleotide and two mononucleotide markers additional information is available with the full text of the article at wwwnejmorg the  tumor specimens for which insufficient control tissue was available were tested for microsatellite instability with two mononucleotide markers that are rarely polymorphic and that do not require control tissue for evaluation the mononucleotide repeat in the bax gene was analyzed in cancers with high levels of microsatellite instability  figure  figure  autoradiographs of molecular markers allelic loss at chromosomes q p and p allelic loss was determined by examining autoradiographs of dna amplified by the polymerase chain reaction pcr allelic loss was defined as a reduction in the intensity of the autoradiograph of one of the two alleles in the amplified tumor dna to at least  percent of the level of dna in nonneoplastic control tissue of the  cases for which control dna was available the results for q were interpretable in   percent for p in   percent and for p in   percent tumors with high levels of microsatellite instability infrequently lose chromosomes including q p and p and were therefore categorized as having no allelic loss these consisted of  additional tumors with no loss at q  with no loss at p and  with no loss at p  the p and pwafcip proteins immunohistochemical analysis was performed as previously described three categories of p staining were defined for statistical analysis with the use of labelingindex cutoff points of  percent and  percent after quantitation by computerassisted image analysis after initial evaluation of immunohistochemical results for pwafcip the labeling index was estimated and categorized as greater than  percent  to  percent  to  percent  to  percent and less than  percent of nuclei of the  analyzed tumors results were interpretable for   percent  classification of microsatellite instability changes in the electrophoretic mobility of dna amplified by pcr were used to assess microsatellite instability the number of markers with altered allelic sizes and the number of technically satisfactory markers were recorded for each tumor in evaluating the  carcinomas for which control dna was available we ascertained microsatellite instability with the use of the interpretable markers among eight dinucleotide markers and two polyadenine tracts tumors with a shift in at least two markers and at least  percent of the interpretable markers were classified as having high levels of microsatellite instability in accordance with international criteria a low level of microsatellite instability was defined as a shift in only one dinucleotide marker in this study tumors with low levels of microsatellite instability were categorized as microsatellitestable tumors  all the tumors with a shift in a mononucleotide marker had high levels of microsatellite instability when examined with the complete panel of markers as reported previously therefore in the  cases without control dna that were evaluated with two mononucleotide markers a shift in a marker was considered to indicate high levels of microsatellite instability  statistical analysis  cases with missing results were included in all analyses that did not involve the missing data the cochranmantelhaenszel stratumadjusted pearsons chisquare test and pearsons chisquare test were used to analyze associations among categorical variables analysis of variance was applied to data on age and tumor size survival curves were estimated by the method of kaplan and meier and differences were assessed by means of the stratified logrank test proportionalhazards regression models were used for multivariable comparisons of timetoevent end points all computations were performed with sas software version  sas institute cary nc all p values were calculated with twosided tests of significance  go to results we first present the genetic abnormalities in the colon cancers we studied and then relate these molecular findings to the survival of the patients after adjuvant chemotherapy  genetic alterations  loss of heterozygosity at chromosome q was observed in  of  cancers  percent of these  specimens   percent had loss of all the analyzed q markers loss of heterozygosity at p was found in  of  tumors  percent of  tumors   percent had allelic loss from both q and p or from neither p for concordance between the status of q and p loss of p alleles was found in  of  tumors  percent  of  cancers   percent had a high labeling index for p protein a finding consistent with a mutation of the p gene in  of  tumors  percent a high p labeling index was associated with allelic loss from p and a low index was associated with retention of p p for the concordance between p labeling index and p status the pwafcip protein was detected in  of  tumors  percent in  of  cancers  percent there was an inverse relation between p and pwafcip labeling p  of the  tumor specimens we evaluated for microsatellite instability   percent had high levels of microsatellite instability low levels of microsatellite instability were found in  of  cancers  percent which were categorized as the microsatellitestable tumors  of the  tumor specimens for which control dna was not available high levels of microsatellite instability were found in  specimens  percent of the  specimens in the entire study that could be analyzed   percent were classified as having high levels of microsatellite instability and   percent as having microsatellite stability in  specimens  percent the results of evaluation were indeterminate or unsatisfactory  high levels of microsatellite instability and a high labeling index for p protein were found in  of  tumor specimens  percent whereas  of  tumor specimens  percent with microsatellite stability had a high p labeling index p among the tumor specimens that had high levels of microsatellite instability and that were evaluated with dinucleotide and mononucleotide markers mutation of the gene for the type ii receptor for transforming growth factor  tgf was present in  of  specimens  percent none of the tumor specimens with low levels of microsatellite instability or with microsatellite stability had such a mutation mutation of the bax gene was present in  of  cancers  percent with high levels of microsatellite instability  survival analysis  among the  patients who were treated with fluorouracilbased chemotherapy female sex less advanced stage of disease and the absence of regional metastases were significant favorable predictors of fiveyear diseasefree survival and fiveyear overall survival after chemotherapy table  younger age  years and the presence of a welldifferentiated adenocarcinoma as compared with a moderately or poorly differentiated tumor were also favorable predictors of fiveyear overall survival  table  table  diseasefree and overall survival at five years in relation to clinical and pathological characteristics of patients with stage ii or iii colon cancer treated with fluorouracilbased adjuvant chemotherapy because the efficacy of adjuvant chemotherapy is more firmly established for patients with stage iii cancer than for those with stage ii cancer survival among those with stage ii disease was analyzed separately of the molecular markers we tested the status of q was significantly associated with both fiveyear diseasefree survival and fiveyear overall survival after chemotherapy among patients with stage iii cancer table  patients with tumors that retained q had a fiveyear diseasefree survival rate of  percent as compared with  percent among those with loss of heterozygosity at q p fig  and table  the corresponding fiveyear overall survival rates were  percent with retention of q alleles and  percent with allelic loss at q p fig  and table  the q status also had predictive value in an analysis of the subgroup of patients with microsatellitestable stage iii carcinoma  figure  figure  diseasefree survival according to the analysis of molecular markers in patients with stage iii colon cancer treated with postoperative adjuvant chemotherapy with fluorouracilbased regimens figure  figure  overall survival according to the analysis of molecular markers in patients with stage iii colon cancer treated with postoperative adjuvant chemotherapy with fluorouracilbased regimens table  table  diseasefree and overall survival at five years in relation to molecular markers in patients with stage iii colon cancer treated with fluorouracilbased adjuvant chemotherapy mutation of the gene for the type ii receptor for tgf a specific indicator of high levels of microsatellite instability was marginally associated with improved fiveyear overall survival table  high levels of microsatellite instability and alteration of the bat marker were also moderately associated with improved diseasefree survival at five years p for both associations among the patients who had stage iii cancer with both high levels of microsatellite instability and mutation of the gene for the type ii receptor for tgf the rate of diseasefree survival at five years was  percent as compared with  percent among those whose tumors had high levels of microsatellite instability and no mutation of this gene p  fig  and table  the corresponding rates of overall survival at five years were  percent and  percent p fig  and table   there was no relation between survival after treatment with a particular regimen and the presence of any of the molecular markers no marker had predictive value in the analysis of  patients with stage ii cancer possibly because of the small sample  in proportionalhazards regression models that were adjusted for sex age the extent of spread the presence or absence of regional metastases and the presence or absence of obstruction several variables allelic loss at q microsatellite stability absence of mutation of the gene for the type ii receptor for tgf and absence of an allelic shift in bat were each independently associated with an increased risk of recurrence table  in models in which multiple markers were analyzed microsatellitestable cancers had a higher relative risk of recurrence than cancers with high levels of microsatellite instability and mutation of the gene for the type ii receptor for tgf relative risk   percent confidence interval  to  p after adjustment for multiple markers loss of q alleles remained an indicator of recurrence and death table  in contrast allelic loss at p was not predictive either in univariate analysis or after such adjustments data not shown  table  table  relative risks of recurrence and death in patients with stage iii colon cancer treated with fluorouracilbased postoperative adjuvant chemotherapy according to proportionalhazards regression models go to discussion in this study we showed that the status of chromosome q in tumors with microsatellite stability and of the gene for the type ii receptor for tgf in tumors with high levels of microsatellite instability could be used to predict the likelihood of survival in patients with stage iii colon cancer who received fluorouracilbased adjuvant chemotherapy we do not know whether these markers reflect resistance or sensitivity to fluorouracil or inherent differences in the biologic characteristics of the tumors  in several but not all previous studies loss of heterozygosity at q was an indicator of a poor prognosis in patients with stage ii cancer patients with stage iii cancer or both groups this loss usually involves the dcc gene but there are numerous other genes in the deleted region the product of the dcc gene is the netrin receptor which guides the migration of neuronal axons in colon cancer loss of dcc is associated with metastasis and an adverse prognosis if it does not bind to netrin the dcc protein triggers apoptosis for this reason loss of dcc as a result of loss of q could impair apoptosis thereby conferring resistance to chemotherapy the absence of an association between survival and loss of heterozygosity at p or p suggests that loss of heterozygosity at q is a specific marker for survival and not simply a reflection of generalized chromosomal instability  our study confirmed the concordance between allelic loss at chromosome q and allelic loss at p although alteration of p is a plausible predictive marker we found no significant relation between survival and the status of the p gene or p protein another study however found a higher rate of sevenyear survival after adjuvant therapy with fluorouracil and levamisole in patients who had cancer without increased levels of p protein than in those who had cancer with increased p levels the explanation for these discrepant results in patients in the same clinical trial is not apparent  the pwafcip protein is a downstream effector of the p protein and we found an inverse relation between p and pwafcip in colon cancer as has been reported previously despite the importance of pwafcip for in vitro responses to chemotherapeutic agents and the report that increased levels of pwafcip were associated with chemosensitivity of metastatic colorectal cancer pretreatment levels of this protein were not related to survival in our study  a mutation of the gene that encodes the type ii receptor for tgf in cancers with high levels of microsatellite instability was associated with a favorable outcome but the mechanism of this effect is uncertain high levels of microsatellite instability improve the prognosis and may also increase the likelihood of survival after chemotherapy because cancers with high levels of microsatellite instability usually retain q alleles loss of heterozygosity in such tumors is unlikely to be a determinant of outcome after adjuvant chemotherapy the tgf pathway inhibits tumor proliferation by blocking the cell cycle late in the g gap  phase so continued proliferation due to mutation of the gene for the type ii receptor for tgf could increase susceptibility to chemotherapy however coloncancer cell lines that are deficient in mismatchrepair activity and that have high levels of microsatellite instability are relatively resistant to fluorouracil in vitro  we find that specific molecular markers in resected stage iii colon cancer can be used to predict survival after adjuvant fluorouracilbased regimens prospective studies are needed to determine whether newer chemotherapeutic agents such as irinotecan and oxaliplatin would benefit patients with stage iii cancer whose tumors have molecular markers associated with a reduced efficacy of fluorouracilbased regimens our study is a first step toward the goal of individualized cancer treatment based on the molecular characteristics of the tumor  abstract the tgf type h receptor ri was found to be mutated within a polyadenine tract in  of   colorectal cancers with microsatellite instability other polyadenine tracts of similar length were mutated in these samples but not as frequently as ri in most cases the polyadeninetract mutations affected both allelesofri and in four tumors heterozygous for the polyadenine mutations three had additional mutations that were expected to inactivate the other rh allele these genetic data support the idea that ru behaves like a tumor suppressor during cr cancer development and is a critical target of inactivation in mismatch repairdeficient tumors introduction of the  new cr cancers diagnosed this year approxi mately  will have widespread mutations in microsatellite se quences characteristic of the rer phenotype an inherited form of cr cancer hnpcc accounts for approximately onefourth of these  cases and is due principally to germline mutations of the mmr genes hmsh and hmlhi hpmsj or hpmssomatic mutations of mmr genes also account for a significant fraction of the sporadic cr cancers exhibiting the rer phenotype  we have recently shown that ri was mutated in  of  rer tumors  tgff inhibits the growth of colon epithelial cells and is the primary ligand for ri   the tgfjri complex interacts with the tgfp type i receptor which in turn activates parallel pathways that inhibit cellular proliferation   genetic analysis of these pathways has shown that both type i and type ii receptors are absolutely required for growth inhibition  materials and methods primary tumors serial xmparaffin sections of hnpcc tumors were microscopically dissected to separate neoplastic from nonneoplastic elements whenever possible normal and tumor components were prepared from the same paraffin block  dna was prepared from cryostat sections of other cr tumorsas described i in these cases dna was also obtainedfrom separate pieces of uninvolved colonic mucosa of the primary tumors in this study dna was prepared from paraffin sections in  cases and from frozen sections in  cases cell lines and xenografts cr cancercell lines n   were obtained from atcc or established as described  xenografts n   were received i accepted i the costs of publication of this article were defrayed in part by the payment of page charges this article must therefore be hereby marked advertisement in accordance with  usc section  solely to indicate this fact  this work was supported by nih grants ca ca ca  ca and ca american cancer society grant fral and the clayton fund b v is an investigator of the howard hughes medical institute  to whom requests for reprints should be addressed at ireland cancer center university circle research center  room   cedar road cleveland oh   the abbreviations used are cr colorectal hnpcc hereditary nonpolyposis cola rectal cancer rer replication error mmr mismatch repair tgf transforming growth factor  ril tgf type ii receptor pa polyadenine rtpcr reverse tran scriptionpcr generated from primary cr cancers and either blood or colonic mucosa samples were used to purify corresponding normal dna  rer status was assessed as described previously using the microsatellite markers bat bat ds and ds  in some cell lines rer status could not be assessed directly because of the absence of corresponding normal dna and the presence of mmr gene mutations or microsatellite instability was used as a surrogate to indicate rer status pcr and sequencing analysis markerloci were pcramplifiedfor  cycles using one plabeled primer and one unlabeled primer reactions were resolved on ureaformamide polyacrylamide gels and exposed to film the primers that were used for the amplification of batru were ctt tat tct gga aga tgc tgc and gaa gaa agt ctc acc agg c bat and bat were identified serendipitously while sequencing introns  and  of hmsh respectively the primers for bat were atc agc agc atg aag cca g and tct lit aca aaa gat tca aaa tfc for bat tga cta cli tlg acttca gcc and aac cat tca aca tf tfa acc c batba batlob bat and bat tracts were derived from introns of the dystrophin gene app gene ckit oncogene and fhydroxysteroid dehydrogenase gene respectively and were identified by searching the genbank human data base with polyadenine tracts the primers for batba were ga taa tat agc atf ata aca ctg and gaa cac aaa gga agt gtc tg for batlob atg tcg tat tat gac cat cac and ggt caa ggc tac agt aag c for bat  tcg cct cca aga atg taa gt and tct gca m taa cta tgg ctc and for batoaca acc ctg cu ug tfc ct and gta gag caa gac cac ctf g the search for lobp pa tracts in the human genome led to the identification of six cdna clones rmsal human glucose transporter  interleukin  human mitochondrial transcription factor  dna polymerase accessory pro tein al and isll the search also identified the cdna for ril to screen for mutation within ri the entire coding region was amplified using rtpcr in two overlapping segments products were directly sequenced with plabeled primers using sequitherm polymerase the primers used for amplification and sequencing of ril are available from the authors upon request results and discussion ri has a lobp pa tract at codons of its codon open reading frame of the  cr cancers with ri mutations demonstrated previously  were caused by small insertions or deletions within this pa tract batri to examine the generality of these results we designed a pcrbased assay for analyzing batri at the genomic level a bp genomic dna fragment encompassing batril was amplified from  primary tumors known to exhibit the rer pheno type fig a of these  were from hnpcc patients and  were sporadic tumors seventyfive of these tumors  had at least one altered batri allele fig b all of the alterations were due to lbpinsertions or deletions that would result in a frameshift in the encoded protein these results are in contrast to the results found in nonrer tumors in which  of  were mutated inactivation of a single ri allele by a batri frameshift mutation would not be predicted to abrogate ri function in the presence of an unaltered second ri allele it was therefore of interest to determine how often both ri alleles were mutated in rer tumors in most of the  downloaded from cancerresaacrjournalsorg on june     american association for cancer research microsatelliteinstability and mutations a     gac ittau ctg gaa gal oct gciid cca aag tgc a atg aag daa aaa aaa aid cci got gag act tic lit asp phe lie leu giu asp ala ala cr pro lys cys k met lys giu lys lys lys pro giy giu thr pbs phe   c d abcde abcdefghij klmn b ab c d e f g h i j k  fig  pa tract of ri a sequence of ri cdna encompassing batrh and including amino acids arrows primers used for genomic amplification the stretch of  a residues is boxed b analysis of primary tumors genomic dna from sporadic primary rer cr cancers and paired normal colon samples lanes a c e g i and acbp pcr products from normal dna resolved on a sequencing gel lanes b d fh j and  products from tumor samples deletions of pa tracts are present in all tumor samples except that in lane b c analysis of xenografts genomic amplification of  xenografted crcs lanes a c and e amplified products of three nonrer xenografts lanes b and d products for two rer samples deletions can be seen in lanes b and d d analysis of cell lines lanes a and b products from normal dna controls the products of rer cell lines are shown in lanes c sw d lovo e lsifdldl g hct h vaco i vaco k hcti   c and n km products of nonrer cell lines are shown in lanes j vacoandm vacoiodeletionscanbe seenin cell linesexceptlanesa bj andm arrowheadspositionof the wildtypebppcrproduct primary tumors described above the band representing the wildtype allele was significantly decreased in intensity compared to the mutant batri alleles fig lb this suggested that both alleles were mutant and that residual wildtype signal arose from contaminat ing nonneoplastic cells within the tumor specimens however the presence of nonneoplastic cells made it difficult to unambiguously interpret these data to answer the question more definitively we analyzed  rer colorectal cancer cell lines passaged in vitro or as xenografts in nude mice for mutations in batri sequences at least  batri alteration was found in  of these samples in  of the  both alleles were altered whereas only  allele was altered in  as in the primary tumors lbp insertions or deletions causing frameshifts were always observed the combined frequency of batri mutations in the primary and cultured cr cancer was   of  in contrast batri was not altered in any of  samples from nonrer cr cancer lines  cell lines and  xenografts alterations of numerous pa sequences distributed widely and randomly throughout the genome was the characteristic first used to define tumors with microsatellite instability   in the context of such widespread changes it is difficult to ascribe significance to alterations of any single pa tract such as those in batri to further address this issue we studied several pa tracts in the tumors described above there was a gradual decrease in the fraction of fig  frequency of alterations in pa tracts of different lengths rer cr cancers were tested for alterations in batru batba batlob bati bat bat  and bat batril batloa and batlob have lbp pa tracts bat has a bp pa tract and bat  bat and bat have pa tracts of approximately   and  bp respectively each marker was tested with the same panel of  rer cr lines see text tumors exhibiting pa tract length alterations as the length of the tract decreased from  to  bp fig  this is consistent with other studies showing that the probability of maintaining a microsatellite in mmrdeficient cells is inversely proportional to the length of the microsatellite  to determine whether smaller pa tracts like those in ri were often mutated in rer cancers we searched genbank version r december  for lbp pa tracts within genes no obp pa tracts were identified within coding exons of genomic dna entries but six were identified within coding regions of cdna entries see oematerialsand methodsof these four were examined using multiple primer combinations by pcr and each failed to yield the expected amplification product presumably this was because introns were present within or closely adjacent to the pa tracts this suggested that long pa tracts are rare in coding sequences a search for obp pa tracts within noncoding dna revealed numerous tracts in intronic and intergenic genomic dna as well as in untranslated portions of cdnas pcrbased amplification was then performed on two randomly chosen intronic lbp pa tracts batba and bat lob using genomic dna as template see oemateriaalsnd methods batoa and batlob were altered less frequently  and  respectively than were longer pa tracts moreover batloa and batlob were altered less frequently than batril in the same tumors p   for each by  additionally we found that pa tracts rarely became smaller than  nucleotides in rer tumor cells batrh batba batiob batl bat  microsatelliteinstability and mutations mutations it will be of interest to determine whether other components of the tgfj pathway are responsible for this insensitivity\n"
     ]
    }
   ],
   "source": [
    "print(text[100])"
   ]
  },
  {
   "cell_type": "code",
   "execution_count": 31,
   "metadata": {},
   "outputs": [
    {
     "data": {
      "text/plain": [
       "Index(['ID', 'Gene', 'Variation', 'Class', 'TEXT'], dtype='object')"
      ]
     },
     "execution_count": 31,
     "metadata": {},
     "output_type": "execute_result"
    }
   ],
   "source": [
    "data.columns"
   ]
  },
  {
   "cell_type": "code",
   "execution_count": 32,
   "metadata": {},
   "outputs": [
    {
     "data": {
      "text/html": [
       "<div>\n",
       "<style scoped>\n",
       "    .dataframe tbody tr th:only-of-type {\n",
       "        vertical-align: middle;\n",
       "    }\n",
       "\n",
       "    .dataframe tbody tr th {\n",
       "        vertical-align: top;\n",
       "    }\n",
       "\n",
       "    .dataframe thead th {\n",
       "        text-align: right;\n",
       "    }\n",
       "</style>\n",
       "<table border=\"1\" class=\"dataframe\">\n",
       "  <thead>\n",
       "    <tr style=\"text-align: right;\">\n",
       "      <th></th>\n",
       "      <th>ID</th>\n",
       "      <th>Gene</th>\n",
       "      <th>Variation</th>\n",
       "      <th>Class</th>\n",
       "      <th>TEXT</th>\n",
       "    </tr>\n",
       "  </thead>\n",
       "  <tbody>\n",
       "    <tr>\n",
       "      <th>0</th>\n",
       "      <td>0</td>\n",
       "      <td>FAM58A</td>\n",
       "      <td>Truncating Mutations</td>\n",
       "      <td>1</td>\n",
       "      <td>cyclindependent kinases cdks regulate a variet...</td>\n",
       "    </tr>\n",
       "    <tr>\n",
       "      <th>1</th>\n",
       "      <td>1</td>\n",
       "      <td>CBL</td>\n",
       "      <td>W802*</td>\n",
       "      <td>2</td>\n",
       "      <td>abstract background  nonsmall cell lung cance...</td>\n",
       "    </tr>\n",
       "    <tr>\n",
       "      <th>2</th>\n",
       "      <td>2</td>\n",
       "      <td>CBL</td>\n",
       "      <td>Q249E</td>\n",
       "      <td>2</td>\n",
       "      <td>abstract background  nonsmall cell lung cance...</td>\n",
       "    </tr>\n",
       "    <tr>\n",
       "      <th>3</th>\n",
       "      <td>3</td>\n",
       "      <td>CBL</td>\n",
       "      <td>N454D</td>\n",
       "      <td>3</td>\n",
       "      <td>recent evidence has demonstrated that acquired...</td>\n",
       "    </tr>\n",
       "    <tr>\n",
       "      <th>4</th>\n",
       "      <td>4</td>\n",
       "      <td>CBL</td>\n",
       "      <td>L399V</td>\n",
       "      <td>4</td>\n",
       "      <td>oncogenic mutations in the monomeric casitas b...</td>\n",
       "    </tr>\n",
       "  </tbody>\n",
       "</table>\n",
       "</div>"
      ],
      "text/plain": [
       "   ID    Gene             Variation  Class  \\\n",
       "0   0  FAM58A  Truncating Mutations      1   \n",
       "1   1     CBL                 W802*      2   \n",
       "2   2     CBL                 Q249E      2   \n",
       "3   3     CBL                 N454D      3   \n",
       "4   4     CBL                 L399V      4   \n",
       "\n",
       "                                                TEXT  \n",
       "0  cyclindependent kinases cdks regulate a variet...  \n",
       "1   abstract background  nonsmall cell lung cance...  \n",
       "2   abstract background  nonsmall cell lung cance...  \n",
       "3  recent evidence has demonstrated that acquired...  \n",
       "4  oncogenic mutations in the monomeric casitas b...  "
      ]
     },
     "execution_count": 32,
     "metadata": {},
     "output_type": "execute_result"
    }
   ],
   "source": [
    "data.head(5)"
   ]
  },
  {
   "cell_type": "code",
   "execution_count": 75,
   "metadata": {},
   "outputs": [
    {
     "name": "stdout",
     "output_type": "stream",
     "text": [
      "BRCA1      264\n",
      "TP53       163\n",
      "EGFR       141\n",
      "PTEN       126\n",
      "BRCA2      125\n",
      "KIT         99\n",
      "BRAF        93\n",
      "ALK         69\n",
      "ERBB2       69\n",
      "PDGFRA      60\n",
      "PIK3CA      56\n",
      "CDKN2A      52\n",
      "FGFR2       50\n",
      "FLT3        49\n",
      "TSC2        47\n",
      "MTOR        45\n",
      "KRAS        44\n",
      "MAP2K1      43\n",
      "VHL         41\n",
      "RET         40\n",
      "FGFR3       39\n",
      "MLH1        35\n",
      "MET         33\n",
      "SMAD4       33\n",
      "JAK2        33\n",
      "NOTCH1      31\n",
      "AKT1        28\n",
      "PTPN11      26\n",
      "ABL1        26\n",
      "ROS1        26\n",
      "          ... \n",
      "PAK1         1\n",
      "MEN1         1\n",
      "FGF4         1\n",
      "AURKB        1\n",
      "IKBKE        1\n",
      "FLT1         1\n",
      "RAD51B       1\n",
      "RRAS2        1\n",
      "CDKN2C       1\n",
      "JUN          1\n",
      "KDM5A        1\n",
      "BARD1        1\n",
      "ERRFI1       1\n",
      "KLF4         1\n",
      "GNAQ         1\n",
      "NCOR1        1\n",
      "WHSC1        1\n",
      "SHOC2        1\n",
      "VEGFA        1\n",
      "EPCAM        1\n",
      "HLA-B        1\n",
      "RICTOR       1\n",
      "FGF19        1\n",
      "IL7R         1\n",
      "ARID5B       1\n",
      "IKZF1        1\n",
      "BCL2         1\n",
      "WHSC1L1      1\n",
      "FANCC        1\n",
      "LATS1        1\n",
      "Name: Gene, Length: 264, dtype: int64\n"
     ]
    }
   ],
   "source": [
    "y=data.Gene.value_counts()\n",
    "print(y)"
   ]
  },
  {
   "cell_type": "code",
   "execution_count": 76,
   "metadata": {},
   "outputs": [
    {
     "data": {
      "text/plain": [
       "Text(0.5,1,'Histogram')"
      ]
     },
     "execution_count": 76,
     "metadata": {},
     "output_type": "execute_result"
    },
    {
     "data": {
      "image/png": "[encoded data removed]",
      "text/plain": [
       "<Figure size 432x288 with 1 Axes>"
      ]
     },
     "metadata": {},
     "output_type": "display_data"
    }
   ],
   "source": [
    "import matplotlib.pyplot as plt\n",
    "plt.hist(y,bins=70)\n",
    "plt.xlabel('No of same type of genes in dataset')\n",
    "plt.title('Histogram')\n"
   ]
  },
  {
   "cell_type": "markdown",
   "metadata": {},
   "source": [
    "This means that there are total 264 different kinds of genes in our dataset and most of the genes have been repeted less than 50 times in our dataset and there is one gene which has repeted 264 times. That is the maximum repeteation in our dataset. There are many genes which are present only one times in our dataset"
   ]
  },
  {
   "cell_type": "code",
   "execution_count": 77,
   "metadata": {},
   "outputs": [
    {
     "name": "stdout",
     "output_type": "stream",
     "text": [
      "Truncating Mutations         93\n",
      "Deletion                     74\n",
      "Amplification                71\n",
      "Fusions                      34\n",
      "Overexpression                6\n",
      "G12V                          4\n",
      "T58I                          3\n",
      "Q61H                          3\n",
      "Q61R                          3\n",
      "E17K                          3\n",
      "Q61L                          3\n",
      "T286A                         2\n",
      "E330K                         2\n",
      "Q61K                          2\n",
      "A146V                         2\n",
      "EWSR1-ETV1 Fusion             2\n",
      "R841K                         2\n",
      "I31M                          2\n",
      "G13C                          2\n",
      "A146T                         2\n",
      "G12C                          2\n",
      "Q209L                         2\n",
      "R170W                         2\n",
      "G12A                          2\n",
      "K117N                         2\n",
      "M1R                           2\n",
      "R173C                         2\n",
      "Promoter Hypermethylation     2\n",
      "E542K                         2\n",
      "P130S                         2\n",
      "                             ..\n",
      "W802*                         1\n",
      "Y647C                         1\n",
      "V765A                         1\n",
      "S2670L                        1\n",
      "H68R                          1\n",
      "V242F                         1\n",
      "E868G                         1\n",
      "V2006L                        1\n",
      "R3052W                        1\n",
      "G60D                          1\n",
      "G17V                          1\n",
      "T41A                          1\n",
      "H132Y                         1\n",
      "L362R                         1\n",
      "A750P                         1\n",
      "T1219I                        1\n",
      "V1810G                        1\n",
      "A859_L883delinsV              1\n",
      "S4P                           1\n",
      "G44S                          1\n",
      "A75P                          1\n",
      "V173L                         1\n",
      "F21A                          1\n",
      "D816Y                         1\n",
      "ROS1-CD74 Fusion              1\n",
      "H597Y                         1\n",
      "I2627F                        1\n",
      "C242F                         1\n",
      "R117G                         1\n",
      "Q531*                         1\n",
      "Name: Variation, Length: 2996, dtype: int64\n"
     ]
    }
   ],
   "source": [
    "y=data.Variation.value_counts()\n",
    "print(y)"
   ]
  },
  {
   "cell_type": "code",
   "execution_count": 78,
   "metadata": {},
   "outputs": [
    {
     "data": {
      "text/plain": [
       "Text(0.5,1,'histogram')"
      ]
     },
     "execution_count": 78,
     "metadata": {},
     "output_type": "execute_result"
    },
    {
     "data": {
      "image/png": "[encoded data removed]",
      "text/plain": [
       "<Figure size 432x288 with 1 Axes>"
      ]
     },
     "metadata": {},
     "output_type": "display_data"
    }
   ],
   "source": [
    "plt.hist(y,bins=70)\n",
    "plt.xlabel('no of repetation of some variation x in our dataset')\n",
    "plt.title('histogram')"
   ]
  },
  {
   "cell_type": "markdown",
   "metadata": {},
   "source": [
    "There are total 2996 different kinds of variation in our dataset. As we can see from histogram that most of the variations have very less repetation or no repetation. Hence we can assume that many variations in our dataset are unique. Truncating Mutation is a variation which has repeted maximum no of times and the repetation is 93. "
   ]
  },
  {
   "cell_type": "code",
   "execution_count": 62,
   "metadata": {},
   "outputs": [
    {
     "name": "stdout",
     "output_type": "stream",
     "text": [
      "7    953\n",
      "4    686\n",
      "1    568\n",
      "2    452\n",
      "6    275\n",
      "5    242\n",
      "3     89\n",
      "9     37\n",
      "8     19\n",
      "Name: Class, dtype: int64\n"
     ]
    }
   ],
   "source": [
    "y=data.Class.value_counts()\n",
    "print(y)"
   ]
  },
  {
   "cell_type": "code",
   "execution_count": 80,
   "metadata": {},
   "outputs": [
    {
     "data": {
      "text/plain": [
       "Text(0.5,1,'Histogram')"
      ]
     },
     "execution_count": 80,
     "metadata": {},
     "output_type": "execute_result"
    },
    {
     "data": {
      "image/png": "[encoded data removed]",
      "text/plain": [
       "<Figure size 432x288 with 1 Axes>"
      ]
     },
     "metadata": {},
     "output_type": "display_data"
    }
   ],
   "source": [
    "plt.hist(data.Class,bins=50)\n",
    "plt.xlabel('class')\n",
    "plt.title(\"Histogram\")"
   ]
  },
  {
   "cell_type": "markdown",
   "metadata": {},
   "source": [
    "Here we have seen that there are total 9 different class and we can see that some class have repeted many times but some have repeted very less times. Class 3,8,9 have very less repetation and hence they are minority class where as class 1,2,4,7 have repeted large no of times and they belong to majority class. Class 5 and 6 have repeted moderate times. Class 7 have repeted maximum no of times. Class is the output variable. Since there are multiple output variable hence it a multiclass classification problem."
   ]
  },
  {
   "cell_type": "code",
   "execution_count": 81,
   "metadata": {},
   "outputs": [
    {
     "data": {
      "text/plain": [
       "array(['ID', 'Gene', 'Variation', 'Class', 'TEXT'], dtype=object)"
      ]
     },
     "execution_count": 81,
     "metadata": {},
     "output_type": "execute_result"
    }
   ],
   "source": [
    "data.columns.values"
   ]
  },
  {
   "cell_type": "markdown",
   "metadata": {},
   "source": [
    "# Featurization"
   ]
  },
  {
   "cell_type": "code",
   "execution_count": 85,
   "metadata": {},
   "outputs": [],
   "source": [
    "from sklearn.feature_extraction.text import CountVectorizer\n",
    "from sklearn.model_selection import train_test_split"
   ]
  },
  {
   "cell_type": "code",
   "execution_count": 100,
   "metadata": {},
   "outputs": [],
   "source": [
    "\n",
    "y=data.Class\n",
    "data=data.drop(['Class'],axis=1)"
   ]
  },
  {
   "cell_type": "code",
   "execution_count": 109,
   "metadata": {},
   "outputs": [],
   "source": [
    "X_train,X_test,y_train,y_test=train_test_split(data,y,test_size=0.2,random_state=42,stratify=y)\n",
    "X_train,X_cv,y_train,y_cv=train_test_split(X_train,y_train,test_size=0.15,random_state=42,stratify=y_train)"
   ]
  },
  {
   "cell_type": "code",
   "execution_count": 114,
   "metadata": {},
   "outputs": [
    {
     "name": "stdout",
     "output_type": "stream",
     "text": [
      "2257     0.679614573923517%\n",
      "665    0.20024089129780187%\n",
      "399     0.12014453477868112%\n"
     ]
    }
   ],
   "source": [
    "print(str(len(X_train))+\"     \"+str(len(X_train)/len(data))+\"%\")\n",
    "print(str(len(X_test))+\"    \"+str(len(X_test)/len(data))+\"%\")\n",
    "print(str(len(X_cv))+\"     \"+str(len(X_cv)/len(data))+\"%\")"
   ]
  },
  {
   "cell_type": "markdown",
   "metadata": {},
   "source": [
    "# Bag of word vectorization of gene feature"
   ]
  },
  {
   "cell_type": "code",
   "execution_count": 116,
   "metadata": {},
   "outputs": [],
   "source": [
    "vectorizer=CountVectorizer()\n",
    "vectorizer.fit(X_train.Gene)\n",
    "gene_train=vectorizer.transform(X_train.Gene)\n",
    "gene_test=vectorizer.transform(X_test.Gene)\n",
    "gene_cv=vectorizer.transform(X_cv.Gene)"
   ]
  },
  {
   "cell_type": "code",
   "execution_count": 124,
   "metadata": {},
   "outputs": [],
   "source": [
    "from sklearn.linear_model import LogisticRegression"
   ]
  },
  {
   "cell_type": "code",
   "execution_count": 120,
   "metadata": {},
   "outputs": [
    {
     "name": "stdout",
     "output_type": "stream",
     "text": [
      "(2257, 239)\n"
     ]
    }
   ],
   "source": [
    "print(gene_train.toarray().shape)"
   ]
  },
  {
   "cell_type": "code",
   "execution_count": 142,
   "metadata": {},
   "outputs": [
    {
     "name": "stdout",
     "output_type": "stream",
     "text": [
      "0.48120300751879697\n"
     ]
    }
   ],
   "source": [
    "from sklearn.linear_model import LogisticRegression\n",
    "from sklearn.metrics import accuracy_score\n",
    "clf=LogisticRegression(class_weight='balanced',C=10)\n",
    "clf.fit(gene_train,y_train)\n",
    "gene_predict=clf.predict(gene_cv)\n",
    "print(accuracy_score(gene_predict,y_cv))"
   ]
  },
  {
   "cell_type": "markdown",
   "metadata": {},
   "source": [
    "I am getting 48% of the accuracy if i use gene_feature hence it is an important feature."
   ]
  },
  {
   "cell_type": "markdown",
   "metadata": {},
   "source": [
    "# Bag of word vectorization of variation feature"
   ]
  },
  {
   "cell_type": "code",
   "execution_count": 196,
   "metadata": {},
   "outputs": [],
   "source": [
    "vectorizer=CountVectorizer(max_features=500)\n",
    "vectorizer.fit(X_train.Variation)\n",
    "variation_train=vectorizer.transform(X_train.Variation)\n",
    "variation_test=vectorizer.transform(X_test.Variation)\n",
    "variation_cv=vectorizer.transform(X_cv.Variation)"
   ]
  },
  {
   "cell_type": "code",
   "execution_count": 197,
   "metadata": {},
   "outputs": [
    {
     "name": "stdout",
     "output_type": "stream",
     "text": [
      "(2257, 500)\n"
     ]
    }
   ],
   "source": [
    "print(variation_train.toarray().shape)"
   ]
  },
  {
   "cell_type": "code",
   "execution_count": 198,
   "metadata": {},
   "outputs": [
    {
     "name": "stdout",
     "output_type": "stream",
     "text": [
      "0.3558897243107769\n"
     ]
    }
   ],
   "source": [
    "from sklearn.linear_model import LogisticRegression\n",
    "from sklearn.metrics import accuracy_score\n",
    "clf=LogisticRegression(class_weight='balanced',C=10)\n",
    "clf.fit(variation_train,y_train)\n",
    "variation_predict=clf.predict(variation_cv)\n",
    "print(accuracy_score(variation_predict,y_cv))"
   ]
  },
  {
   "cell_type": "markdown",
   "metadata": {},
   "source": [
    "On using variation feature i am getting an accuracy of 35% hence it is an important feature."
   ]
  },
  {
   "cell_type": "markdown",
   "metadata": {},
   "source": [
    "# Bag of word representation for text feature "
   ]
  },
  {
   "cell_type": "code",
   "execution_count": 151,
   "metadata": {},
   "outputs": [],
   "source": [
    "vectorizer=CountVectorizer(max_features=5000)\n",
    "vectorizer.fit(X_train.TEXT)\n",
    "text_train=vectorizer.transform(X_train.TEXT)\n",
    "text_test=vectorizer.transform(X_test.TEXT)\n",
    "text_cv=vectorizer.transform(X_cv.TEXT)"
   ]
  },
  {
   "cell_type": "code",
   "execution_count": 152,
   "metadata": {},
   "outputs": [
    {
     "name": "stdout",
     "output_type": "stream",
     "text": [
      "(2257, 5000)\n"
     ]
    }
   ],
   "source": [
    "print(text_train.shape)"
   ]
  },
  {
   "cell_type": "code",
   "execution_count": 154,
   "metadata": {},
   "outputs": [
    {
     "name": "stdout",
     "output_type": "stream",
     "text": [
      "0.6040100250626567\n"
     ]
    }
   ],
   "source": [
    "clf=LogisticRegression(class_weight='balanced',C=1)\n",
    "clf.fit(text_train,y_train)\n",
    "text_predict=clf.predict(text_cv)\n",
    "print(accuracy_score(text_predict,y_cv))"
   ]
  },
  {
   "cell_type": "raw",
   "metadata": {},
   "source": [
    "We got an accuracy of almost 60% with the text data. we have performed bag of word vectorization on text data and taken most important 5000 features so this is very important feature"
   ]
  },
  {
   "cell_type": "markdown",
   "metadata": {},
   "source": [
    "# stacking all the features"
   ]
  },
  {
   "cell_type": "code",
   "execution_count": 204,
   "metadata": {},
   "outputs": [],
   "source": [
    "from scipy.sparse import hstack"
   ]
  },
  {
   "cell_type": "code",
   "execution_count": 205,
   "metadata": {},
   "outputs": [],
   "source": [
    "train_x=hstack((gene_train,variation_train,text_train)).toarray()\n",
    "test_x=hstack((gene_test,variation_test,text_test)).toarray()\n",
    "cv_x=hstack((gene_cv,variation_cv,text_cv)).toarray()"
   ]
  },
  {
   "cell_type": "code",
   "execution_count": 206,
   "metadata": {},
   "outputs": [
    {
     "data": {
      "text/plain": [
       "(2257, 5739)"
      ]
     },
     "execution_count": 206,
     "metadata": {},
     "output_type": "execute_result"
    }
   ],
   "source": [
    "train_x.shape"
   ]
  },
  {
   "cell_type": "code",
   "execution_count": 283,
   "metadata": {},
   "outputs": [],
   "source": [
    "alpha=[10**i for i in range(-5,1)]"
   ]
  },
  {
   "cell_type": "code",
   "execution_count": 284,
   "metadata": {},
   "outputs": [
    {
     "data": {
      "text/plain": [
       "[1e-05, 0.0001, 0.001, 0.01, 0.1, 1]"
      ]
     },
     "execution_count": 284,
     "metadata": {},
     "output_type": "execute_result"
    }
   ],
   "source": [
    "alpha"
   ]
  },
  {
   "cell_type": "code",
   "execution_count": 285,
   "metadata": {},
   "outputs": [
    {
     "name": "stderr",
     "output_type": "stream",
     "text": [
      "\n",
      "\n",
      "\n",
      "  0%|                                                                                            | 0/6 [00:00<?, ?it/s]\u001b[A\u001b[A\u001b[AC:\\Users\\Shubham Kumar\\Anaconda3\\lib\\site-packages\\sklearn\\linear_model\\logistic.py:1228: UserWarning: 'n_jobs' > 1 does not have any effect when 'solver' is set to 'liblinear'. Got 'n_jobs' = -1.\n",
      "  \" = {}.\".format(self.n_jobs))\n",
      "\n",
      "\n",
      "\n",
      " 17%|██████████████                                                                      | 1/6 [00:03<00:19,  3.85s/it]\u001b[A\u001b[A\u001b[AC:\\Users\\Shubham Kumar\\Anaconda3\\lib\\site-packages\\sklearn\\linear_model\\logistic.py:1228: UserWarning: 'n_jobs' > 1 does not have any effect when 'solver' is set to 'liblinear'. Got 'n_jobs' = -1.\n",
      "  \" = {}.\".format(self.n_jobs))\n",
      "\n",
      "\n",
      "\n",
      " 33%|████████████████████████████                                                        | 2/6 [00:13<00:21,  5.46s/it]\u001b[A\u001b[A\u001b[AC:\\Users\\Shubham Kumar\\Anaconda3\\lib\\site-packages\\sklearn\\linear_model\\logistic.py:1228: UserWarning: 'n_jobs' > 1 does not have any effect when 'solver' is set to 'liblinear'. Got 'n_jobs' = -1.\n",
      "  \" = {}.\".format(self.n_jobs))\n",
      "\n",
      "\n",
      "\n",
      " 50%|██████████████████████████████████████████                                          | 3/6 [00:26<00:23,  7.92s/it]\u001b[A\u001b[A\u001b[AC:\\Users\\Shubham Kumar\\Anaconda3\\lib\\site-packages\\sklearn\\linear_model\\logistic.py:1228: UserWarning: 'n_jobs' > 1 does not have any effect when 'solver' is set to 'liblinear'. Got 'n_jobs' = -1.\n",
      "  \" = {}.\".format(self.n_jobs))\n",
      "\n",
      "\n",
      "\n",
      " 67%|████████████████████████████████████████████████████████                            | 4/6 [00:52<00:26, 13.17s/it]\u001b[A\u001b[A\u001b[AC:\\Users\\Shubham Kumar\\Anaconda3\\lib\\site-packages\\sklearn\\linear_model\\logistic.py:1228: UserWarning: 'n_jobs' > 1 does not have any effect when 'solver' is set to 'liblinear'. Got 'n_jobs' = -1.\n",
      "  \" = {}.\".format(self.n_jobs))\n",
      "\n",
      "\n",
      "\n",
      " 83%|██████████████████████████████████████████████████████████████████████              | 5/6 [01:44<00:24, 24.99s/it]\u001b[A\u001b[A\u001b[AC:\\Users\\Shubham Kumar\\Anaconda3\\lib\\site-packages\\sklearn\\linear_model\\logistic.py:1228: UserWarning: 'n_jobs' > 1 does not have any effect when 'solver' is set to 'liblinear'. Got 'n_jobs' = -1.\n",
      "  \" = {}.\".format(self.n_jobs))\n",
      "\n",
      "\n",
      "\n",
      "100%|████████████████████████████████████████████████████████████████████████████████████| 6/6 [04:12<00:00, 42.15s/it]\u001b[A\u001b[A\u001b[A\n"
     ]
    }
   ],
   "source": [
    "train_acc=list()\n",
    "cv_acc=list()\n",
    "for i in tqdm(range(len(alpha))):\n",
    "    clf=LogisticRegression(C=alpha[i],n_jobs=-1,random_state=42,multi_class='ovr')\n",
    "    clf.fit(train_x,y_train)\n",
    "    train_predict=clf.predict(train_x)\n",
    "    cv_predict=clf.predict(cv_x)\n",
    "    train_acc.append(accuracy_score(y_train,train_predict))\n",
    "    cv_acc.append(accuracy_score(y_cv,cv_predict))"
   ]
  },
  {
   "cell_type": "code",
   "execution_count": 286,
   "metadata": {},
   "outputs": [
    {
     "name": "stdout",
     "output_type": "stream",
     "text": [
      "[0.6583961010190519, 0.7837837837837838, 0.8794860434204697, 0.8910057598582188, 0.8967656180770935, 0.9136021267168808]\n",
      "[0.5989974937343359, 0.631578947368421, 0.6441102756892231, 0.6240601503759399, 0.6190476190476191, 0.6165413533834586]\n"
     ]
    }
   ],
   "source": [
    "print(train_acc)\n",
    "print(cv_acc)"
   ]
  },
  {
   "cell_type": "code",
   "execution_count": 291,
   "metadata": {},
   "outputs": [
    {
     "name": "stdout",
     "output_type": "stream",
     "text": [
      "[-5.0, -4.0, -3.0, -2.0, -1.0, 0.0]\n"
     ]
    }
   ],
   "source": [
    "import math as mt\n",
    "log_alpha=list()\n",
    "for i in alpha:\n",
    "    log_alpha.append(mt.log10(i))\n",
    "print(log_alpha)    "
   ]
  },
  {
   "cell_type": "code",
   "execution_count": 292,
   "metadata": {},
   "outputs": [
    {
     "data": {
      "text/plain": [
       "Text(0,0.5,'Accuracy')"
      ]
     },
     "execution_count": 292,
     "metadata": {},
     "output_type": "execute_result"
    },
    {
     "data": {
      "image/png": "[encoded data removed]",
      "text/plain": [
       "<Figure size 432x288 with 1 Axes>"
      ]
     },
     "metadata": {},
     "output_type": "display_data"
    }
   ],
   "source": [
    "plt.plot(log_alpha,train_acc,label='Train_Accuracy')\n",
    "plt.plot(log_alpha,cv_acc,label='cv_Accuracy')\n",
    "plt.xlabel(\"Log10(HyperParameter(C_value))\")\n",
    "plt.ylabel(\"Accuracy\")"
   ]
  },
  {
   "cell_type": "code",
   "execution_count": 293,
   "metadata": {},
   "outputs": [
    {
     "name": "stdout",
     "output_type": "stream",
     "text": [
      "Best C-Value:  0.001\n"
     ]
    }
   ],
   "source": [
    "print(\"Best C-Value: \",alpha[cv_acc.index(max(cv_acc))])"
   ]
  },
  {
   "cell_type": "code",
   "execution_count": 296,
   "metadata": {},
   "outputs": [
    {
     "name": "stdout",
     "output_type": "stream",
     "text": [
      "0.6090225563909775\n"
     ]
    }
   ],
   "source": [
    "clf=LogisticRegression(C=0.001,random_state=42,multi_class='ovr')\n",
    "clf.fit(train_x,y_train)\n",
    "test_predict=clf.predict(test_x)\n",
    "print(accuracy_score(y_test,test_predict))"
   ]
  },
  {
   "cell_type": "code",
   "execution_count": 298,
   "metadata": {},
   "outputs": [
    {
     "data": {
      "text/plain": [
       "['CancerLR']"
      ]
     },
     "execution_count": 298,
     "metadata": {},
     "output_type": "execute_result"
    }
   ],
   "source": [
    "import joblib\n",
    "joblib.dump(clf,'CancerLR')"
   ]
  },
  {
   "cell_type": "markdown",
   "metadata": {},
   "source": [
    "we performed logistic regression on the given dataset and we got an accuracy of 60.9% on test dataset and 88% on train dataset. We performed hyperparameterization and found that best c-value is 1"
   ]
  },
  {
   "cell_type": "code",
   "execution_count": 302,
   "metadata": {},
   "outputs": [],
   "source": [
    "from sklearn.multiclass import OneVsRestClassifier\n",
    "from sklearn.neighbors import KNeighborsClassifier"
   ]
  },
  {
   "cell_type": "code",
   "execution_count": 307,
   "metadata": {},
   "outputs": [
    {
     "name": "stderr",
     "output_type": "stream",
     "text": [
      "\n",
      "\n",
      "\n",
      "  0%|                                                                                            | 0/3 [00:00<?, ?it/s]\u001b[A\u001b[A\u001b[AC:\\Users\\Shubham Kumar\\Anaconda3\\lib\\site-packages\\sklearn\\externals\\joblib\\pool.py:438: UserWarning: Failed to clean temporary folder: C:\\Users\\SHUBHA~1\\AppData\\Local\\Temp\\joblib_memmaping_pool_12380_1878268158248\n",
      "  warnings.warn(\"Failed to clean temporary folder: %s\" % folder_path)\n",
      "\n",
      "\n",
      "\n",
      " 33%|████████████████████████████                                                        | 1/3 [01:39<03:19, 99.96s/it]\u001b[A\u001b[A\u001b[AC:\\Users\\Shubham Kumar\\Anaconda3\\lib\\site-packages\\sklearn\\externals\\joblib\\pool.py:438: UserWarning: Failed to clean temporary folder: C:\\Users\\SHUBHA~1\\AppData\\Local\\Temp\\joblib_memmaping_pool_12380_1878278470904\n",
      "  warnings.warn(\"Failed to clean temporary folder: %s\" % folder_path)\n",
      "\n",
      "\n",
      "\n",
      " 67%|███████████████████████████████████████████████████████▎                           | 2/3 [09:36<03:32, 212.88s/it]\u001b[A\u001b[A\u001b[AC:\\Users\\Shubham Kumar\\Anaconda3\\lib\\site-packages\\sklearn\\externals\\joblib\\pool.py:438: UserWarning: Failed to clean temporary folder: C:\\Users\\SHUBHA~1\\AppData\\Local\\Temp\\joblib_memmaping_pool_12380_1878273772736\n",
      "  warnings.warn(\"Failed to clean temporary folder: %s\" % folder_path)\n",
      "\n",
      "\n",
      "\n",
      "100%|███████████████████████████████████████████████████████████████████████████████████| 3/3 [19:18<00:00, 386.13s/it]\u001b[A\u001b[A\u001b[A\n"
     ]
    }
   ],
   "source": [
    "k=[1,5,10]\n",
    "train_acc=list()\n",
    "cv_acc=list()\n",
    "for i in tqdm(range(len(k))):\n",
    "    clf=OneVsRestClassifier(KNeighborsClassifier(n_neighbors=k[i]),n_jobs=-1)\n",
    "    clf.fit(train_x,y_train)\n",
    "    train_pred=clf.predict(train_x)\n",
    "    cv_pred=clf.predict(cv_x)\n",
    "    train_acc.append(accuracy_score(train_pred,y_train))\n",
    "    cv_acc.append(accuracy_score(cv_pred,y_cv))\n",
    "    "
   ]
  },
  {
   "cell_type": "code",
   "execution_count": 309,
   "metadata": {},
   "outputs": [
    {
     "name": "stdout",
     "output_type": "stream",
     "text": [
      "[0.5839598997493735, 0.5739348370927319, 0.5363408521303258]\n",
      "[0.9255649091714665, 0.6894107221976075, 0.614975631369074]\n"
     ]
    }
   ],
   "source": [
    "print(cv_acc)\n",
    "print(train_acc)"
   ]
  },
  {
   "cell_type": "code",
   "execution_count": null,
   "metadata": {},
   "outputs": [],
   "source": []
  }
 ],
 "metadata": {
  "kernelspec": {
   "display_name": "Python 3",
   "language": "python",
   "name": "python3"
  },
  "language_info": {
   "codemirror_mode": {
    "name": "ipython",
    "version": 3
   },
   "file_extension": ".py",
   "mimetype": "text/x-python",
   "name": "python",
   "nbconvert_exporter": "python",
   "pygments_lexer": "ipython3",
   "version": "3.6.5"
  }
 },
 "nbformat": 4,
 "nbformat_minor": 2
}
